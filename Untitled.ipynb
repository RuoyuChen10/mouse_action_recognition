{
 "cells": [
  {
   "cell_type": "code",
   "execution_count": 1,
   "metadata": {},
   "outputs": [],
   "source": [
    "import numpy as np\n",
    "import cv2\n",
    "import os\n",
    "import random\n",
    "import torch.nn as nn\n",
    "import torch"
   ]
  },
  {
   "cell_type": "code",
   "execution_count": 2,
   "metadata": {},
   "outputs": [],
   "source": [
    "def read_folder_datasets(rootfile,num):\n",
    "    '''\n",
    "    rootfile is the path\n",
    "    '''\n",
    "    image_serial = []\n",
    "    files_dir = os.listdir(rootfile)\n",
    "    # 检查文件夹下数量是否满足输入的要求\n",
    "    if(len(files_dir)>=num):\n",
    "        for img_name in files_dir:\n",
    "            img_dir = rootfile+'/'+ img_name\n",
    "            img = cv2.imread(img_dir)\n",
    "            img = cv2.resize(112,112)\n",
    "            image_serial.append(img)\n",
    "            if len(image_serial)==num:\n",
    "                break\n",
    "        return image_serial\n",
    "    else:\n",
    "        return None"
   ]
  },
  {
   "cell_type": "code",
   "execution_count": 23,
   "metadata": {},
   "outputs": [],
   "source": [
    "def sort_file(file_list):\n",
    "    '''\n",
    "    文本排序\n",
    "    '''\n",
    "    file_list.sort(key=lambda x: int(x.split('.')[0]))\n",
    "    return file_list"
   ]
  },
  {
   "cell_type": "code",
   "execution_count": 24,
   "metadata": {},
   "outputs": [],
   "source": [
    "def read_sort_file(file_dir):\n",
    "    '''\n",
    "    文本排序\n",
    "    '''\n",
    "    try:\n",
    "        file_list = os.listdir(file_dir)\n",
    "        file_list.sort(key=lambda x: int(x.split('.')[0]))\n",
    "        return file_list\n",
    "    except:\n",
    "        return None"
   ]
  },
  {
   "cell_type": "code",
   "execution_count": 25,
   "metadata": {},
   "outputs": [],
   "source": [
    "rootfile = './datasets'"
   ]
  },
  {
   "cell_type": "code",
   "execution_count": 26,
   "metadata": {},
   "outputs": [],
   "source": [
    "files_dir = read_sort_file(rootfile)"
   ]
  },
  {
   "cell_type": "code",
   "execution_count": 27,
   "metadata": {},
   "outputs": [
    {
     "data": {
      "text/plain": [
       "['0', '1', '2', '3', '4', '5', '6', '7', '8', '9', '10', '11', '12', '13']"
      ]
     },
     "execution_count": 27,
     "metadata": {},
     "output_type": "execute_result"
    }
   ],
   "source": [
    "files_dir"
   ]
  },
  {
   "cell_type": "code",
   "execution_count": 28,
   "metadata": {},
   "outputs": [],
   "source": [
    "with open(\"datasets.txt\") as file:\n",
    "    a = file.readline()"
   ]
  },
  {
   "cell_type": "code",
   "execution_count": 29,
   "metadata": {},
   "outputs": [
    {
     "data": {
      "text/plain": [
       "'./datasets/8/2/240.jpg ./datasets/8/2/241.jpg ./datasets/8/2/242.jpg ./datasets/8/2/243.jpg ./datasets/8/2/244.jpg ./datasets/8/2/245.jpg ./datasets/8/2/246.jpg ./datasets/8/2/247.jpg ./datasets/8/2/248.jpg ./datasets/8/2/249.jpg ./datasets/8/2/250.jpg ./datasets/8/2/251.jpg ./datasets/8/2/252.jpg ./datasets/8/2/253.jpg ./datasets/8/2/254.jpg ./datasets/8/2/255.jpg 8\\n'"
      ]
     },
     "execution_count": 29,
     "metadata": {},
     "output_type": "execute_result"
    }
   ],
   "source": [
    "a"
   ]
  },
  {
   "cell_type": "code",
   "execution_count": 30,
   "metadata": {},
   "outputs": [],
   "source": [
    "list = []\n",
    "for line in open(\"datasets.txt\"):   \n",
    "    list.append(line)"
   ]
  },
  {
   "cell_type": "code",
   "execution_count": 31,
   "metadata": {},
   "outputs": [
    {
     "data": {
      "text/plain": [
       "'./datasets/7/7/27806.jpg ./datasets/7/7/27807.jpg ./datasets/7/7/27808.jpg ./datasets/7/7/27809.jpg ./datasets/7/7/27810.jpg ./datasets/7/7/27811.jpg ./datasets/7/7/27812.jpg ./datasets/7/7/27813.jpg ./datasets/7/7/27814.jpg ./datasets/7/7/27815.jpg ./datasets/7/7/27816.jpg ./datasets/7/7/27817.jpg ./datasets/7/7/27818.jpg ./datasets/7/7/27819.jpg ./datasets/7/7/27820.jpg ./datasets/7/7/27821.jpg 7\\n'"
      ]
     },
     "execution_count": 31,
     "metadata": {},
     "output_type": "execute_result"
    }
   ],
   "source": [
    "list[1]"
   ]
  },
  {
   "cell_type": "code",
   "execution_count": 32,
   "metadata": {},
   "outputs": [
    {
     "data": {
      "text/plain": [
       "26"
      ]
     },
     "execution_count": 32,
     "metadata": {},
     "output_type": "execute_result"
    }
   ],
   "source": [
    "len(list)"
   ]
  },
  {
   "cell_type": "code",
   "execution_count": 33,
   "metadata": {},
   "outputs": [],
   "source": [
    "random.shuffle(list)"
   ]
  },
  {
   "cell_type": "code",
   "execution_count": 34,
   "metadata": {},
   "outputs": [
    {
     "data": {
      "text/plain": [
       "['./datasets/2/7/8064.jpg ./datasets/2/7/8065.jpg ./datasets/2/7/8066.jpg ./datasets/2/7/8067.jpg ./datasets/2/7/8068.jpg ./datasets/2/7/8069.jpg ./datasets/2/7/8070.jpg ./datasets/2/7/8071.jpg ./datasets/2/7/8072.jpg ./datasets/2/7/8073.jpg ./datasets/2/7/8074.jpg ./datasets/2/7/8075.jpg ./datasets/2/7/8076.jpg ./datasets/2/7/8077.jpg ./datasets/2/7/8078.jpg ./datasets/2/7/8079.jpg 2\\n',\n",
       " './datasets/8/1/119.jpg ./datasets/8/1/120.jpg ./datasets/8/1/121.jpg ./datasets/8/1/122.jpg ./datasets/8/1/123.jpg ./datasets/8/1/124.jpg ./datasets/8/1/125.jpg ./datasets/8/1/126.jpg ./datasets/8/1/127.jpg ./datasets/8/1/128.jpg ./datasets/8/1/129.jpg ./datasets/8/1/130.jpg ./datasets/8/1/131.jpg ./datasets/8/1/132.jpg ./datasets/8/1/133.jpg ./datasets/8/1/134.jpg 8\\n',\n",
       " './datasets/7/9/36361.jpg ./datasets/7/9/36362.jpg ./datasets/7/9/36363.jpg ./datasets/7/9/36364.jpg ./datasets/7/9/36365.jpg ./datasets/7/9/36366.jpg ./datasets/7/9/36367.jpg ./datasets/7/9/36368.jpg ./datasets/7/9/36369.jpg ./datasets/7/9/36370.jpg ./datasets/7/9/36371.jpg ./datasets/7/9/36372.jpg ./datasets/7/9/36373.jpg ./datasets/7/9/36374.jpg ./datasets/7/9/36375.jpg ./datasets/7/9/36376.jpg 7\\n',\n",
       " './datasets/2/1/1265.jpg ./datasets/2/1/1266.jpg ./datasets/2/1/1267.jpg ./datasets/2/1/1268.jpg ./datasets/2/1/1269.jpg ./datasets/2/1/1270.jpg ./datasets/2/1/1271.jpg ./datasets/2/1/1272.jpg ./datasets/2/1/1273.jpg ./datasets/2/1/1274.jpg ./datasets/2/1/1275.jpg ./datasets/2/1/1276.jpg ./datasets/2/1/1277.jpg ./datasets/2/1/1278.jpg ./datasets/2/1/1279.jpg ./datasets/2/1/1280.jpg 2\\n',\n",
       " './datasets/4/3/15702.jpg ./datasets/4/3/15703.jpg ./datasets/4/3/15704.jpg ./datasets/4/3/15705.jpg ./datasets/4/3/15706.jpg ./datasets/4/3/15707.jpg ./datasets/4/3/15708.jpg ./datasets/4/3/15709.jpg ./datasets/4/3/15710.jpg ./datasets/4/3/15711.jpg ./datasets/4/3/15712.jpg ./datasets/4/3/15713.jpg ./datasets/4/3/15714.jpg ./datasets/4/3/15715.jpg ./datasets/4/3/15716.jpg ./datasets/4/3/15717.jpg 4\\n',\n",
       " './datasets/0/1/347.jpg ./datasets/0/1/348.jpg ./datasets/0/1/349.jpg ./datasets/0/1/350.jpg ./datasets/0/1/351.jpg ./datasets/0/1/352.jpg ./datasets/0/1/353.jpg ./datasets/0/1/354.jpg ./datasets/0/1/355.jpg ./datasets/0/1/356.jpg ./datasets/0/1/357.jpg ./datasets/0/1/358.jpg ./datasets/0/1/359.jpg ./datasets/0/1/360.jpg ./datasets/0/1/361.jpg ./datasets/0/1/362.jpg 0\\n',\n",
       " './datasets/7/7/27806.jpg ./datasets/7/7/27807.jpg ./datasets/7/7/27808.jpg ./datasets/7/7/27809.jpg ./datasets/7/7/27810.jpg ./datasets/7/7/27811.jpg ./datasets/7/7/27812.jpg ./datasets/7/7/27813.jpg ./datasets/7/7/27814.jpg ./datasets/7/7/27815.jpg ./datasets/7/7/27816.jpg ./datasets/7/7/27817.jpg ./datasets/7/7/27818.jpg ./datasets/7/7/27819.jpg ./datasets/7/7/27820.jpg ./datasets/7/7/27821.jpg 7\\n',\n",
       " './datasets/3/6/1100.jpg ./datasets/3/6/1101.jpg ./datasets/3/6/1102.jpg ./datasets/3/6/1103.jpg ./datasets/3/6/1104.jpg ./datasets/3/6/1105.jpg ./datasets/3/6/1106.jpg ./datasets/3/6/1107.jpg ./datasets/3/6/1108.jpg ./datasets/3/6/1109.jpg ./datasets/3/6/1110.jpg ./datasets/3/6/1111.jpg ./datasets/3/6/1112.jpg ./datasets/3/6/1113.jpg ./datasets/3/6/1114.jpg ./datasets/3/6/1115.jpg 3\\n',\n",
       " './datasets/5/4/796.jpg ./datasets/5/4/797.jpg ./datasets/5/4/798.jpg ./datasets/5/4/799.jpg ./datasets/5/4/800.jpg ./datasets/5/4/801.jpg ./datasets/5/4/802.jpg ./datasets/5/4/803.jpg ./datasets/5/4/804.jpg ./datasets/5/4/805.jpg ./datasets/5/4/806.jpg ./datasets/5/4/807.jpg ./datasets/5/4/808.jpg ./datasets/5/4/809.jpg ./datasets/5/4/810.jpg ./datasets/5/4/811.jpg 5\\n',\n",
       " './datasets/2/8/8064.jpg ./datasets/2/8/8065.jpg ./datasets/2/8/8066.jpg ./datasets/2/8/8067.jpg ./datasets/2/8/8068.jpg ./datasets/2/8/8069.jpg ./datasets/2/8/8070.jpg ./datasets/2/8/8071.jpg ./datasets/2/8/8072.jpg ./datasets/2/8/8073.jpg ./datasets/2/8/8074.jpg ./datasets/2/8/8075.jpg ./datasets/2/8/8076.jpg ./datasets/2/8/8077.jpg ./datasets/2/8/8078.jpg ./datasets/2/8/8079.jpg 2\\n',\n",
       " './datasets/6/2/646.jpg ./datasets/6/2/647.jpg ./datasets/6/2/648.jpg ./datasets/6/2/649.jpg ./datasets/6/2/650.jpg ./datasets/6/2/651.jpg ./datasets/6/2/652.jpg ./datasets/6/2/653.jpg ./datasets/6/2/654.jpg ./datasets/6/2/655.jpg ./datasets/6/2/656.jpg ./datasets/6/2/657.jpg ./datasets/6/2/658.jpg ./datasets/6/2/659.jpg ./datasets/6/2/660.jpg ./datasets/6/2/661.jpg 6\\n',\n",
       " './datasets/2/10/32625.jpg ./datasets/2/10/32626.jpg ./datasets/2/10/32627.jpg ./datasets/2/10/32628.jpg ./datasets/2/10/32629.jpg ./datasets/2/10/32630.jpg ./datasets/2/10/32631.jpg ./datasets/2/10/32632.jpg ./datasets/2/10/32633.jpg ./datasets/2/10/32634.jpg ./datasets/2/10/32635.jpg ./datasets/2/10/32636.jpg ./datasets/2/10/32637.jpg ./datasets/2/10/32638.jpg ./datasets/2/10/32639.jpg ./datasets/2/10/32640.jpg 2\\n',\n",
       " './datasets/6/3/3625.jpg ./datasets/6/3/3626.jpg ./datasets/6/3/3627.jpg ./datasets/6/3/3628.jpg ./datasets/6/3/3629.jpg ./datasets/6/3/3630.jpg ./datasets/6/3/3631.jpg ./datasets/6/3/3632.jpg ./datasets/6/3/3633.jpg ./datasets/6/3/3634.jpg ./datasets/6/3/3635.jpg ./datasets/6/3/3636.jpg ./datasets/6/3/3637.jpg ./datasets/6/3/3638.jpg ./datasets/6/3/3639.jpg ./datasets/6/3/3640.jpg 6\\n',\n",
       " './datasets/3/4/2983.jpg ./datasets/3/4/2984.jpg ./datasets/3/4/2985.jpg ./datasets/3/4/2986.jpg ./datasets/3/4/2987.jpg ./datasets/3/4/2988.jpg ./datasets/3/4/2989.jpg ./datasets/3/4/2990.jpg ./datasets/3/4/2991.jpg ./datasets/3/4/2992.jpg ./datasets/3/4/2993.jpg ./datasets/3/4/2994.jpg ./datasets/3/4/2995.jpg ./datasets/3/4/2996.jpg ./datasets/3/4/2997.jpg ./datasets/3/4/2998.jpg 3\\n',\n",
       " './datasets/6/1/457.jpg ./datasets/6/1/458.jpg ./datasets/6/1/459.jpg ./datasets/6/1/460.jpg ./datasets/6/1/461.jpg ./datasets/6/1/462.jpg ./datasets/6/1/463.jpg ./datasets/6/1/464.jpg ./datasets/6/1/465.jpg ./datasets/6/1/466.jpg ./datasets/6/1/467.jpg ./datasets/6/1/468.jpg ./datasets/6/1/469.jpg ./datasets/6/1/470.jpg ./datasets/6/1/471.jpg ./datasets/6/1/472.jpg 6\\n',\n",
       " './datasets/2/6/7748.jpg ./datasets/2/6/7749.jpg ./datasets/2/6/7750.jpg ./datasets/2/6/7751.jpg ./datasets/2/6/7752.jpg ./datasets/2/6/7753.jpg ./datasets/2/6/7754.jpg ./datasets/2/6/7755.jpg ./datasets/2/6/7756.jpg ./datasets/2/6/7757.jpg ./datasets/2/6/7758.jpg ./datasets/2/6/7759.jpg ./datasets/2/6/7760.jpg ./datasets/2/6/7761.jpg ./datasets/2/6/7762.jpg ./datasets/2/6/7763.jpg 2\\n',\n",
       " './datasets/4/8/22020.jpg ./datasets/4/8/22021.jpg ./datasets/4/8/22022.jpg ./datasets/4/8/22023.jpg ./datasets/4/8/22024.jpg ./datasets/4/8/22025.jpg ./datasets/4/8/22026.jpg ./datasets/4/8/22027.jpg ./datasets/4/8/22028.jpg ./datasets/4/8/22029.jpg ./datasets/4/8/22030.jpg ./datasets/4/8/22031.jpg ./datasets/4/8/22032.jpg ./datasets/4/8/22033.jpg ./datasets/4/8/22034.jpg ./datasets/4/8/22035.jpg 4\\n',\n",
       " './datasets/0/3/691.jpg ./datasets/0/3/692.jpg ./datasets/0/3/693.jpg ./datasets/0/3/694.jpg ./datasets/0/3/695.jpg ./datasets/0/3/696.jpg ./datasets/0/3/697.jpg ./datasets/0/3/698.jpg ./datasets/0/3/699.jpg ./datasets/0/3/700.jpg ./datasets/0/3/701.jpg ./datasets/0/3/702.jpg ./datasets/0/3/703.jpg ./datasets/0/3/704.jpg ./datasets/0/3/705.jpg ./datasets/0/3/706.jpg 0\\n',\n",
       " './datasets/0/5/3702.jpg ./datasets/0/5/3703.jpg ./datasets/0/5/3704.jpg ./datasets/0/5/3705.jpg ./datasets/0/5/3706.jpg ./datasets/0/5/3707.jpg ./datasets/0/5/3708.jpg ./datasets/0/5/3709.jpg ./datasets/0/5/3710.jpg ./datasets/0/5/3711.jpg ./datasets/0/5/3712.jpg ./datasets/0/5/3713.jpg ./datasets/0/5/3714.jpg ./datasets/0/5/3715.jpg ./datasets/0/5/3716.jpg ./datasets/0/5/3717.jpg 0\\n',\n",
       " './datasets/4/5/16831.jpg ./datasets/4/5/16832.jpg ./datasets/4/5/16833.jpg ./datasets/4/5/16834.jpg ./datasets/4/5/16835.jpg ./datasets/4/5/16836.jpg ./datasets/4/5/16837.jpg ./datasets/4/5/16838.jpg ./datasets/4/5/16839.jpg ./datasets/4/5/16840.jpg ./datasets/4/5/16841.jpg ./datasets/4/5/16842.jpg ./datasets/4/5/16843.jpg ./datasets/4/5/16844.jpg ./datasets/4/5/16845.jpg ./datasets/4/5/16846.jpg 4\\n',\n",
       " './datasets/4/10/36921.jpg ./datasets/4/10/36922.jpg ./datasets/4/10/36923.jpg ./datasets/4/10/36924.jpg ./datasets/4/10/36925.jpg ./datasets/4/10/36926.jpg ./datasets/4/10/36927.jpg ./datasets/4/10/36928.jpg ./datasets/4/10/36929.jpg ./datasets/4/10/36930.jpg ./datasets/4/10/36931.jpg ./datasets/4/10/36932.jpg ./datasets/4/10/36933.jpg ./datasets/4/10/36934.jpg ./datasets/4/10/36935.jpg ./datasets/4/10/36936.jpg 4\\n',\n",
       " './datasets/8/2/240.jpg ./datasets/8/2/241.jpg ./datasets/8/2/242.jpg ./datasets/8/2/243.jpg ./datasets/8/2/244.jpg ./datasets/8/2/245.jpg ./datasets/8/2/246.jpg ./datasets/8/2/247.jpg ./datasets/8/2/248.jpg ./datasets/8/2/249.jpg ./datasets/8/2/250.jpg ./datasets/8/2/251.jpg ./datasets/8/2/252.jpg ./datasets/8/2/253.jpg ./datasets/8/2/254.jpg ./datasets/8/2/255.jpg 8\\n',\n",
       " './datasets/7/10/40740.jpg ./datasets/7/10/40741.jpg ./datasets/7/10/40742.jpg ./datasets/7/10/40743.jpg ./datasets/7/10/40744.jpg ./datasets/7/10/40745.jpg ./datasets/7/10/40746.jpg ./datasets/7/10/40747.jpg ./datasets/7/10/40748.jpg ./datasets/7/10/40749.jpg ./datasets/7/10/40750.jpg ./datasets/7/10/40751.jpg ./datasets/7/10/40752.jpg ./datasets/7/10/40753.jpg ./datasets/7/10/40754.jpg ./datasets/7/10/40755.jpg 7\\n',\n",
       " './datasets/2/2/7748.jpg ./datasets/2/2/7749.jpg ./datasets/2/2/7750.jpg ./datasets/2/2/7751.jpg ./datasets/2/2/7752.jpg ./datasets/2/2/7753.jpg ./datasets/2/2/7754.jpg ./datasets/2/2/7755.jpg ./datasets/2/2/7756.jpg ./datasets/2/2/7757.jpg ./datasets/2/2/7758.jpg ./datasets/2/2/7759.jpg ./datasets/2/2/7760.jpg ./datasets/2/2/7761.jpg ./datasets/2/2/7762.jpg ./datasets/2/2/7763.jpg 2\\n',\n",
       " './datasets/5/5/1030.jpg ./datasets/5/5/1031.jpg ./datasets/5/5/1032.jpg ./datasets/5/5/1033.jpg ./datasets/5/5/1034.jpg ./datasets/5/5/1035.jpg ./datasets/5/5/1036.jpg ./datasets/5/5/1037.jpg ./datasets/5/5/1038.jpg ./datasets/5/5/1039.jpg ./datasets/5/5/1040.jpg ./datasets/5/5/1041.jpg ./datasets/5/5/1042.jpg ./datasets/5/5/1043.jpg ./datasets/5/5/1044.jpg ./datasets/5/5/1045.jpg 5\\n',\n",
       " './datasets/7/1/1480.jpg ./datasets/7/1/1481.jpg ./datasets/7/1/1482.jpg ./datasets/7/1/1483.jpg ./datasets/7/1/1484.jpg ./datasets/7/1/1485.jpg ./datasets/7/1/1486.jpg ./datasets/7/1/1487.jpg ./datasets/7/1/1488.jpg ./datasets/7/1/1489.jpg ./datasets/7/1/1490.jpg ./datasets/7/1/1491.jpg ./datasets/7/1/1492.jpg ./datasets/7/1/1493.jpg ./datasets/7/1/1494.jpg ./datasets/7/1/1495.jpg 7\\n']"
      ]
     },
     "execution_count": 34,
     "metadata": {},
     "output_type": "execute_result"
    }
   ],
   "source": [
    "list"
   ]
  },
  {
   "cell_type": "code",
   "execution_count": 35,
   "metadata": {},
   "outputs": [],
   "source": [
    "txt_serial=\"./datasets/2/2/7748.jpg ./datasets/2/2/7749.jpg ./datasets/2/2/7750.jpg ./datasets/2/2/7751.jpg ./datasets/2/2/7752.jpg ./datasets/2/2/7753.jpg ./datasets/2/2/7754.jpg ./datasets/2/2/7755.jpg ./datasets/2/2/7756.jpg ./datasets/2/2/7757.jpg 2\""
   ]
  },
  {
   "cell_type": "code",
   "execution_count": 36,
   "metadata": {},
   "outputs": [
    {
     "data": {
      "text/plain": [
       "10"
      ]
     },
     "execution_count": 36,
     "metadata": {},
     "output_type": "execute_result"
    }
   ],
   "source": [
    "len(txt_serial.split(' ')[:-1])"
   ]
  },
  {
   "cell_type": "code",
   "execution_count": 37,
   "metadata": {},
   "outputs": [
    {
     "data": {
      "text/plain": [
       "'./datasets/2/2/7748.jpg ./datasets/2/2/7749.jpg ./datasets/2/2/7750.jpg ./datasets/2/2/7751.jpg ./datasets/2/2/7752.jpg ./datasets/2/2/7753.jpg ./datasets/2/2/7754.jpg ./datasets/2/2/7755.jpg ./datasets/2/2/7756.jpg ./datasets/2/2/7757.jpg 2'"
      ]
     },
     "execution_count": 37,
     "metadata": {},
     "output_type": "execute_result"
    }
   ],
   "source": [
    "txt_serial"
   ]
  },
  {
   "cell_type": "code",
   "execution_count": 72,
   "metadata": {},
   "outputs": [],
   "source": [
    "def read_folder_datasets(txt_serial):\n",
    "    y = int(txt_serial.split(' ')[-1])\n",
    "    x = []\n",
    "    for i in txt_serial.split(' ')[:-1]:\n",
    "        img = cv2.imread(i)\n",
    "        img = cv2.resize(img,(112,112))\n",
    "        if img is not None:\n",
    "            x.append(img)\n",
    "    if len(x)==len(txt_serial.split(' ')[:-1]):\n",
    "        return x,y\n",
    "    else:\n",
    "        raise Exception(txt_serial.split(' ')[0]+\"is error!\")"
   ]
  },
  {
   "cell_type": "code",
   "execution_count": 73,
   "metadata": {},
   "outputs": [],
   "source": [
    "x,y = read_folder_datasets(txt_serial)"
   ]
  },
  {
   "cell_type": "code",
   "execution_count": 74,
   "metadata": {},
   "outputs": [
    {
     "data": {
      "text/plain": [
       "(10, 112, 112, 3)"
      ]
     },
     "execution_count": 74,
     "metadata": {},
     "output_type": "execute_result"
    }
   ],
   "source": [
    "np.array(x).shape"
   ]
  },
  {
   "cell_type": "code",
   "execution_count": 75,
   "metadata": {},
   "outputs": [],
   "source": [
    "txt = [\n",
    "\"./datasets/2/1/1265.jpg ./datasets/2/1/1266.jpg ./datasets/2/1/1267.jpg ./datasets/2/1/1268.jpg ./datasets/2/1/1269.jpg ./datasets/2/1/1270.jpg ./datasets/2/1/1271.jpg ./datasets/2/1/1272.jpg ./datasets/2/1/1273.jpg ./datasets/2/1/1274.jpg ./datasets/2/1/1275.jpg ./datasets/2/1/1276.jpg ./datasets/2/1/1277.jpg ./datasets/2/1/1278.jpg ./datasets/2/1/1279.jpg ./datasets/2/1/1280.jpg 2\",\n",
    "\"./datasets/2/6/7748.jpg ./datasets/2/6/7749.jpg ./datasets/2/6/7750.jpg ./datasets/2/6/7751.jpg ./datasets/2/6/7752.jpg ./datasets/2/6/7753.jpg ./datasets/2/6/7754.jpg ./datasets/2/6/7755.jpg ./datasets/2/6/7756.jpg ./datasets/2/6/7757.jpg ./datasets/2/6/7758.jpg ./datasets/2/6/7759.jpg ./datasets/2/6/7760.jpg ./datasets/2/6/7761.jpg ./datasets/2/6/7762.jpg ./datasets/2/6/7763.jpg 2\",\n",
    "\"./datasets/6/3/3625.jpg ./datasets/6/3/3626.jpg ./datasets/6/3/3627.jpg ./datasets/6/3/3628.jpg ./datasets/6/3/3629.jpg ./datasets/6/3/3630.jpg ./datasets/6/3/3631.jpg ./datasets/6/3/3632.jpg ./datasets/6/3/3633.jpg ./datasets/6/3/3634.jpg ./datasets/6/3/3635.jpg ./datasets/6/3/3636.jpg ./datasets/6/3/3637.jpg ./datasets/6/3/3638.jpg ./datasets/6/3/3639.jpg ./datasets/6/3/3640.jpg 6\",\n",
    "\"./datasets/7/10/40740.jpg ./datasets/7/10/40741.jpg ./datasets/7/10/40742.jpg ./datasets/7/10/40743.jpg ./datasets/7/10/40744.jpg ./datasets/7/10/40745.jpg ./datasets/7/10/40746.jpg ./datasets/7/10/40747.jpg ./datasets/7/10/40748.jpg ./datasets/7/10/40749.jpg ./datasets/7/10/40750.jpg ./datasets/7/10/40751.jpg ./datasets/7/10/40752.jpg ./datasets/7/10/40753.jpg ./datasets/7/10/40754.jpg ./datasets/7/10/40755.jpg 7\"\n",
    "]"
   ]
  },
  {
   "cell_type": "code",
   "execution_count": 76,
   "metadata": {},
   "outputs": [
    {
     "data": {
      "text/plain": [
       "4"
      ]
     },
     "execution_count": 76,
     "metadata": {},
     "output_type": "execute_result"
    }
   ],
   "source": [
    "len(txt)"
   ]
  },
  {
   "cell_type": "code",
   "execution_count": 77,
   "metadata": {},
   "outputs": [],
   "source": [
    "def read_batch_txt(batch_txt):\n",
    "    batch_x = []\n",
    "    batch_y = []\n",
    "    for path in batch_txt:\n",
    "        if path[-2:]=='\\n':\n",
    "            path = path[:-2]\n",
    "        x,y = read_folder_datasets(path)\n",
    "        batch_x.append(x)\n",
    "        batch_y.append(y)\n",
    "    batch_x=np.transpose(batch_x, (0,4,1,2,3))\n",
    "    return batch_x,batch_y"
   ]
  },
  {
   "cell_type": "code",
   "execution_count": 78,
   "metadata": {},
   "outputs": [
    {
     "data": {
      "text/plain": [
       "' 2'"
      ]
     },
     "execution_count": 78,
     "metadata": {},
     "output_type": "execute_result"
    }
   ],
   "source": [
    "txt_serial[-2:]"
   ]
  },
  {
   "cell_type": "code",
   "execution_count": 79,
   "metadata": {},
   "outputs": [],
   "source": [
    "x,y = read_batch_txt(txt)"
   ]
  },
  {
   "cell_type": "code",
   "execution_count": 80,
   "metadata": {},
   "outputs": [],
   "source": [
    "x = np.array(x)"
   ]
  },
  {
   "cell_type": "code",
   "execution_count": 81,
   "metadata": {},
   "outputs": [
    {
     "data": {
      "text/plain": [
       "[2, 2, 6, 7]"
      ]
     },
     "execution_count": 81,
     "metadata": {},
     "output_type": "execute_result"
    }
   ],
   "source": [
    "y"
   ]
  },
  {
   "cell_type": "code",
   "execution_count": 82,
   "metadata": {},
   "outputs": [
    {
     "data": {
      "text/plain": [
       "(4, 3, 16, 112, 112)"
      ]
     },
     "execution_count": 82,
     "metadata": {},
     "output_type": "execute_result"
    }
   ],
   "source": [
    "x.shape"
   ]
  },
  {
   "cell_type": "code",
   "execution_count": 83,
   "metadata": {},
   "outputs": [
    {
     "data": {
      "text/plain": [
       "(4, 3, 16, 112, 112)"
      ]
     },
     "execution_count": 83,
     "metadata": {},
     "output_type": "execute_result"
    }
   ],
   "source": [
    "np.array(x).shape"
   ]
  },
  {
   "cell_type": "code",
   "execution_count": 111,
   "metadata": {},
   "outputs": [],
   "source": [
    "class C3D(nn.Module):\n",
    "    \"\"\"\n",
    "    The C3D network as described in [1].\n",
    "    \"\"\"\n",
    "    def __init__(self, num_classes=16):\n",
    "        super(C3D, self).__init__()\n",
    "\n",
    "        self.conv1 = nn.Conv3d(3, 64, kernel_size=(3, 3, 3), padding=(1, 1, 1))\n",
    "        self.pool1 = nn.MaxPool3d(kernel_size=(1, 2, 2), stride=(1, 2, 2))\n",
    "\n",
    "        self.conv2 = nn.Conv3d(64, 128, kernel_size=(3, 3, 3), padding=(1, 1, 1))\n",
    "        self.pool2 = nn.MaxPool3d(kernel_size=(2, 2, 2), stride=(2, 2, 2))\n",
    "\n",
    "        self.conv3a = nn.Conv3d(128, 256, kernel_size=(3, 3, 3), padding=(1, 1, 1))\n",
    "        self.conv3b = nn.Conv3d(256, 256, kernel_size=(3, 3, 3), padding=(1, 1, 1))\n",
    "        self.pool3 = nn.MaxPool3d(kernel_size=(2, 2, 2), stride=(2, 2, 2))\n",
    "\n",
    "        self.conv4a = nn.Conv3d(256, 512, kernel_size=(3, 3, 3), padding=(1, 1, 1))\n",
    "        self.conv4b = nn.Conv3d(512, 512, kernel_size=(3, 3, 3), padding=(1, 1, 1))\n",
    "        self.pool4 = nn.MaxPool3d(kernel_size=(2, 2, 2), stride=(2, 2, 2))\n",
    "\n",
    "        self.conv5a = nn.Conv3d(512, 512, kernel_size=(3, 3, 3), padding=(1, 1, 1))\n",
    "        self.conv5b = nn.Conv3d(512, 512, kernel_size=(3, 3, 3), padding=(1, 1, 1))\n",
    "        self.pool5 = nn.MaxPool3d(kernel_size=(2, 2, 2), stride=(2, 2, 2), padding=(0, 1, 1))\n",
    "\n",
    "        self.fc6 = nn.Linear(8192, 4096)\n",
    "        self.fc7 = nn.Linear(4096, 4096)\n",
    "        self.fc8 = nn.Linear(4096, num_classes)\n",
    "\n",
    "        self.dropout = nn.Dropout(p=0.5)\n",
    "\n",
    "        self.relu = nn.ReLU()\n",
    "        self.softmax = nn.Softmax()\n",
    "\n",
    "    def forward(self, x):\n",
    "        h = self.relu(self.conv1(x))\n",
    "        h = self.pool1(h)\n",
    "\n",
    "        h = self.relu(self.conv2(h))\n",
    "        h = self.pool2(h)\n",
    "\n",
    "        h = self.relu(self.conv3a(h))\n",
    "        h = self.relu(self.conv3b(h))\n",
    "        h = self.pool3(h)\n",
    "\n",
    "        h = self.relu(self.conv4a(h))\n",
    "        h = self.relu(self.conv4b(h))\n",
    "        h = self.pool4(h)\n",
    "\n",
    "        h = self.relu(self.conv5a(h))\n",
    "        h = self.relu(self.conv5b(h))\n",
    "        h = self.pool5(h)\n",
    "        \n",
    "        h = h.view(-1, 8192)\n",
    "        h = self.relu(self.fc6(h))\n",
    "        h = self.dropout(h)\n",
    "        h = self.relu(self.fc7(h))\n",
    "        h = self.dropout(h)\n",
    "\n",
    "        logits = self.fc8(h)\n",
    "        probs = self.softmax(logits)\n",
    "        return probs"
   ]
  },
  {
   "cell_type": "code",
   "execution_count": 119,
   "metadata": {},
   "outputs": [],
   "source": [
    "net = C3D().cuda()"
   ]
  },
  {
   "cell_type": "code",
   "execution_count": 123,
   "metadata": {},
   "outputs": [
    {
     "name": "stderr",
     "output_type": "stream",
     "text": [
      "G:\\anaconda\\lib\\site-packages\\ipykernel_launcher.py:61: UserWarning: Implicit dimension choice for softmax has been deprecated. Change the call to include dim=X as an argument.\n"
     ]
    }
   ],
   "source": [
    "cov_block = net.forward(torch.cuda.FloatTensor(x))"
   ]
  },
  {
   "cell_type": "code",
   "execution_count": 121,
   "metadata": {},
   "outputs": [
    {
     "data": {
      "text/plain": [
       "torch.Size([4, 16])"
      ]
     },
     "execution_count": 121,
     "metadata": {},
     "output_type": "execute_result"
    }
   ],
   "source": [
    "cov_block.shape"
   ]
  },
  {
   "cell_type": "code",
   "execution_count": 126,
   "metadata": {},
   "outputs": [
    {
     "data": {
      "text/plain": [
       "tensor(1., device='cuda:0', grad_fn=<AddBackward0>)"
      ]
     },
     "execution_count": 126,
     "metadata": {},
     "output_type": "execute_result"
    }
   ],
   "source": [
    "sum(cov_block[1])"
   ]
  },
  {
   "cell_type": "code",
   "execution_count": 78,
   "metadata": {},
   "outputs": [
    {
     "data": {
      "text/plain": [
       "(3, 3, 10, 112, 112)"
      ]
     },
     "execution_count": 78,
     "metadata": {},
     "output_type": "execute_result"
    }
   ],
   "source": [
    "x.shape"
   ]
  },
  {
   "cell_type": "code",
   "execution_count": 12,
   "metadata": {},
   "outputs": [],
   "source": [
    "img = cv2.imread('347.jpg')"
   ]
  },
  {
   "cell_type": "code",
   "execution_count": 20,
   "metadata": {},
   "outputs": [],
   "source": [
    "cv2.imshow('dsa',img)\n",
    "img = cv2.resize(img,(112,112))\n",
    "cv2.waitKey(0)\n",
    "cv2.destroyAllWindows()"
   ]
  },
  {
   "cell_type": "code",
   "execution_count": 98,
   "metadata": {},
   "outputs": [
    {
     "name": "stdout",
     "output_type": "stream",
     "text": [
      "True\n"
     ]
    }
   ],
   "source": [
    "print(torch.cuda.is_available())"
   ]
  },
  {
   "cell_type": "code",
   "execution_count": 2,
   "metadata": {},
   "outputs": [],
   "source": [
    "from dataload import Load"
   ]
  },
  {
   "cell_type": "code",
   "execution_count": 3,
   "metadata": {},
   "outputs": [],
   "source": [
    "l = Load()"
   ]
  },
  {
   "cell_type": "code",
   "execution_count": 4,
   "metadata": {},
   "outputs": [],
   "source": [
    "train_data_dir,val_data_dir = l.read_datasets_txt('train.txt','val.txt')"
   ]
  },
  {
   "cell_type": "code",
   "execution_count": 5,
   "metadata": {},
   "outputs": [
    {
     "name": "stdout",
     "output_type": "stream",
     "text": [
      "./datasets/8/2/240.jpg ./datasets/8/2/241.jpg ./datasets/8/2/242.jpg ./datasets/8/2/243.jpg ./datasets/8/2/244.jpg ./datasets/8/2/245.jpg ./datasets/8/2/246.jpg ./datasets/8/2/247.jpg ./datasets/8/2/248.jpg ./datasets/8/2/249.jpg ./datasets/8/2/250.jpg ./datasets/8/2/251.jpg ./datasets/8/2/252.jpg ./datasets/8/2/253.jpg ./datasets/8/2/254.jpg ./datasets/8/2/255.jpg 8\n",
      "./datasets/7/7/27806.jpg ./datasets/7/7/27807.jpg ./datasets/7/7/27808.jpg ./datasets/7/7/27809.jpg ./datasets/7/7/27810.jpg ./datasets/7/7/27811.jpg ./datasets/7/7/27812.jpg ./datasets/7/7/27813.jpg ./datasets/7/7/27814.jpg ./datasets/7/7/27815.jpg ./datasets/7/7/27816.jpg ./datasets/7/7/27817.jpg ./datasets/7/7/27818.jpg ./datasets/7/7/27819.jpg ./datasets/7/7/27820.jpg ./datasets/7/7/27821.jpg 7\n",
      "./datasets/0/5/3702.jpg ./datasets/0/5/3703.jpg ./datasets/0/5/3704.jpg ./datasets/0/5/3705.jpg ./datasets/0/5/3706.jpg ./datasets/0/5/3707.jpg ./datasets/0/5/3708.jpg ./datasets/0/5/3709.jpg ./datasets/0/5/3710.jpg ./datasets/0/5/3711.jpg ./datasets/0/5/3712.jpg ./datasets/0/5/3713.jpg ./datasets/0/5/3714.jpg ./datasets/0/5/3715.jpg ./datasets/0/5/3716.jpg ./datasets/0/5/3717.jpg 0\n",
      "./datasets/0/1/347.jpg ./datasets/0/1/348.jpg ./datasets/0/1/349.jpg ./datasets/0/1/350.jpg ./datasets/0/1/351.jpg ./datasets/0/1/352.jpg ./datasets/0/1/353.jpg ./datasets/0/1/354.jpg ./datasets/0/1/355.jpg ./datasets/0/1/356.jpg ./datasets/0/1/357.jpg ./datasets/0/1/358.jpg ./datasets/0/1/359.jpg ./datasets/0/1/360.jpg ./datasets/0/1/361.jpg ./datasets/0/1/362.jpg 0\n",
      "./datasets/7/1/1480.jpg ./datasets/7/1/1481.jpg ./datasets/7/1/1482.jpg ./datasets/7/1/1483.jpg ./datasets/7/1/1484.jpg ./datasets/7/1/1485.jpg ./datasets/7/1/1486.jpg ./datasets/7/1/1487.jpg ./datasets/7/1/1488.jpg ./datasets/7/1/1489.jpg ./datasets/7/1/1490.jpg ./datasets/7/1/1491.jpg ./datasets/7/1/1492.jpg ./datasets/7/1/1493.jpg ./datasets/7/1/1494.jpg ./datasets/7/1/1495.jpg 7\n",
      "./datasets/4/3/15702.jpg ./datasets/4/3/15703.jpg ./datasets/4/3/15704.jpg ./datasets/4/3/15705.jpg ./datasets/4/3/15706.jpg ./datasets/4/3/15707.jpg ./datasets/4/3/15708.jpg ./datasets/4/3/15709.jpg ./datasets/4/3/15710.jpg ./datasets/4/3/15711.jpg ./datasets/4/3/15712.jpg ./datasets/4/3/15713.jpg ./datasets/4/3/15714.jpg ./datasets/4/3/15715.jpg ./datasets/4/3/15716.jpg ./datasets/4/3/15717.jpg 4\n",
      "./datasets/4/5/16831.jpg ./datasets/4/5/16832.jpg ./datasets/4/5/16833.jpg ./datasets/4/5/16834.jpg ./datasets/4/5/16835.jpg ./datasets/4/5/16836.jpg ./datasets/4/5/16837.jpg ./datasets/4/5/16838.jpg ./datasets/4/5/16839.jpg ./datasets/4/5/16840.jpg ./datasets/4/5/16841.jpg ./datasets/4/5/16842.jpg ./datasets/4/5/16843.jpg ./datasets/4/5/16844.jpg ./datasets/4/5/16845.jpg ./datasets/4/5/16846.jpg 4\n",
      "./datasets/2/2/7748.jpg ./datasets/2/2/7749.jpg ./datasets/2/2/7750.jpg ./datasets/2/2/7751.jpg ./datasets/2/2/7752.jpg ./datasets/2/2/7753.jpg ./datasets/2/2/7754.jpg ./datasets/2/2/7755.jpg ./datasets/2/2/7756.jpg ./datasets/2/2/7757.jpg ./datasets/2/2/7758.jpg ./datasets/2/2/7759.jpg ./datasets/2/2/7760.jpg ./datasets/2/2/7761.jpg ./datasets/2/2/7762.jpg ./datasets/2/2/7763.jpg 2\n",
      "./datasets/6/2/646.jpg ./datasets/6/2/647.jpg ./datasets/6/2/648.jpg ./datasets/6/2/649.jpg ./datasets/6/2/650.jpg ./datasets/6/2/651.jpg ./datasets/6/2/652.jpg ./datasets/6/2/653.jpg ./datasets/6/2/654.jpg ./datasets/6/2/655.jpg ./datasets/6/2/656.jpg ./datasets/6/2/657.jpg ./datasets/6/2/658.jpg ./datasets/6/2/659.jpg ./datasets/6/2/660.jpg ./datasets/6/2/661.jpg 6\n",
      "./datasets/2/7/8064.jpg ./datasets/2/7/8065.jpg ./datasets/2/7/8066.jpg ./datasets/2/7/8067.jpg ./datasets/2/7/8068.jpg ./datasets/2/7/8069.jpg ./datasets/2/7/8070.jpg ./datasets/2/7/8071.jpg ./datasets/2/7/8072.jpg ./datasets/2/7/8073.jpg ./datasets/2/7/8074.jpg ./datasets/2/7/8075.jpg ./datasets/2/7/8076.jpg ./datasets/2/7/8077.jpg ./datasets/2/7/8078.jpg ./datasets/2/7/8079.jpg 2\n",
      "./datasets/7/9/36361.jpg ./datasets/7/9/36362.jpg ./datasets/7/9/36363.jpg ./datasets/7/9/36364.jpg ./datasets/7/9/36365.jpg ./datasets/7/9/36366.jpg ./datasets/7/9/36367.jpg ./datasets/7/9/36368.jpg ./datasets/7/9/36369.jpg ./datasets/7/9/36370.jpg ./datasets/7/9/36371.jpg ./datasets/7/9/36372.jpg ./datasets/7/9/36373.jpg ./datasets/7/9/36374.jpg ./datasets/7/9/36375.jpg ./datasets/7/9/36376.jpg 7\n",
      "./datasets/6/1/457.jpg ./datasets/6/1/458.jpg ./datasets/6/1/459.jpg ./datasets/6/1/460.jpg ./datasets/6/1/461.jpg ./datasets/6/1/462.jpg ./datasets/6/1/463.jpg ./datasets/6/1/464.jpg ./datasets/6/1/465.jpg ./datasets/6/1/466.jpg ./datasets/6/1/467.jpg ./datasets/6/1/468.jpg ./datasets/6/1/469.jpg ./datasets/6/1/470.jpg ./datasets/6/1/471.jpg ./datasets/6/1/472.jpg 6\n",
      "./datasets/5/5/1030.jpg ./datasets/5/5/1031.jpg ./datasets/5/5/1032.jpg ./datasets/5/5/1033.jpg ./datasets/5/5/1034.jpg ./datasets/5/5/1035.jpg ./datasets/5/5/1036.jpg ./datasets/5/5/1037.jpg ./datasets/5/5/1038.jpg ./datasets/5/5/1039.jpg ./datasets/5/5/1040.jpg ./datasets/5/5/1041.jpg ./datasets/5/5/1042.jpg ./datasets/5/5/1043.jpg ./datasets/5/5/1044.jpg ./datasets/5/5/1045.jpg 5\n",
      "./datasets/8/1/119.jpg ./datasets/8/1/120.jpg ./datasets/8/1/121.jpg ./datasets/8/1/122.jpg ./datasets/8/1/123.jpg ./datasets/8/1/124.jpg ./datasets/8/1/125.jpg ./datasets/8/1/126.jpg ./datasets/8/1/127.jpg ./datasets/8/1/128.jpg ./datasets/8/1/129.jpg ./datasets/8/1/130.jpg ./datasets/8/1/131.jpg ./datasets/8/1/132.jpg ./datasets/8/1/133.jpg ./datasets/8/1/134.jpg 8\n",
      "./datasets/2/10/32625.jpg ./datasets/2/10/32626.jpg ./datasets/2/10/32627.jpg ./datasets/2/10/32628.jpg ./datasets/2/10/32629.jpg ./datasets/2/10/32630.jpg ./datasets/2/10/32631.jpg ./datasets/2/10/32632.jpg ./datasets/2/10/32633.jpg ./datasets/2/10/32634.jpg ./datasets/2/10/32635.jpg ./datasets/2/10/32636.jpg ./datasets/2/10/32637.jpg ./datasets/2/10/32638.jpg ./datasets/2/10/32639.jpg ./datasets/2/10/32640.jpg 2\n",
      "./datasets/0/3/691.jpg ./datasets/0/3/692.jpg ./datasets/0/3/693.jpg ./datasets/0/3/694.jpg ./datasets/0/3/695.jpg ./datasets/0/3/696.jpg ./datasets/0/3/697.jpg ./datasets/0/3/698.jpg ./datasets/0/3/699.jpg ./datasets/0/3/700.jpg ./datasets/0/3/701.jpg ./datasets/0/3/702.jpg ./datasets/0/3/703.jpg ./datasets/0/3/704.jpg ./datasets/0/3/705.jpg ./datasets/0/3/706.jpg 0\n",
      "./datasets/2/8/8064.jpg ./datasets/2/8/8065.jpg ./datasets/2/8/8066.jpg ./datasets/2/8/8067.jpg ./datasets/2/8/8068.jpg ./datasets/2/8/8069.jpg ./datasets/2/8/8070.jpg ./datasets/2/8/8071.jpg ./datasets/2/8/8072.jpg ./datasets/2/8/8073.jpg ./datasets/2/8/8074.jpg ./datasets/2/8/8075.jpg ./datasets/2/8/8076.jpg ./datasets/2/8/8077.jpg ./datasets/2/8/8078.jpg ./datasets/2/8/8079.jpg 2\n",
      "./datasets/4/8/22020.jpg ./datasets/4/8/22021.jpg ./datasets/4/8/22022.jpg ./datasets/4/8/22023.jpg ./datasets/4/8/22024.jpg ./datasets/4/8/22025.jpg ./datasets/4/8/22026.jpg ./datasets/4/8/22027.jpg ./datasets/4/8/22028.jpg ./datasets/4/8/22029.jpg ./datasets/4/8/22030.jpg ./datasets/4/8/22031.jpg ./datasets/4/8/22032.jpg ./datasets/4/8/22033.jpg ./datasets/4/8/22034.jpg ./datasets/4/8/22035.jpg 4\n",
      "./datasets/3/6/1100.jpg ./datasets/3/6/1101.jpg ./datasets/3/6/1102.jpg ./datasets/3/6/1103.jpg ./datasets/3/6/1104.jpg ./datasets/3/6/1105.jpg ./datasets/3/6/1106.jpg ./datasets/3/6/1107.jpg ./datasets/3/6/1108.jpg ./datasets/3/6/1109.jpg ./datasets/3/6/1110.jpg ./datasets/3/6/1111.jpg ./datasets/3/6/1112.jpg ./datasets/3/6/1113.jpg ./datasets/3/6/1114.jpg ./datasets/3/6/1115.jpg 3\n",
      "./datasets/3/4/2983.jpg ./datasets/3/4/2984.jpg ./datasets/3/4/2985.jpg ./datasets/3/4/2986.jpg ./datasets/3/4/2987.jpg ./datasets/3/4/2988.jpg ./datasets/3/4/2989.jpg ./datasets/3/4/2990.jpg ./datasets/3/4/2991.jpg ./datasets/3/4/2992.jpg ./datasets/3/4/2993.jpg ./datasets/3/4/2994.jpg ./datasets/3/4/2995.jpg ./datasets/3/4/2996.jpg ./datasets/3/4/2997.jpg ./datasets/3/4/2998.jpg 3\n"
     ]
    }
   ],
   "source": [
    "train_data, train_label = l.read_batch_txt(batch_txt=train_data_dir)"
   ]
  },
  {
   "cell_type": "code",
   "execution_count": 15,
   "metadata": {},
   "outputs": [],
   "source": [
    "path= \"./datasets/8/2/240.jpg ./datasets/8/2/241.jpg ./datasets/8/2/242.jpg ./datasets/8/2/243.jpg ./datasets/8/2/244.jpg ./datasets/8/2/245.jpg ./datasets/8/2/246.jpg ./datasets/8/2/247.jpg ./datasets/8/2/248.jpg ./datasets/8/2/249.jpg ./datasets/8/2/250.jpg ./datasets/8/2/251.jpg ./datasets/8/2/252.jpg ./datasets/8/2/253.jpg ./datasets/8/2/254.jpg ./datasets/8/2/255.jpg 8\""
   ]
  },
  {
   "cell_type": "code",
   "execution_count": 16,
   "metadata": {},
   "outputs": [],
   "source": [
    "y = int(path.split(' ')[-1])"
   ]
  },
  {
   "cell_type": "code",
   "execution_count": 18,
   "metadata": {},
   "outputs": [
    {
     "data": {
      "text/plain": [
       "8"
      ]
     },
     "execution_count": 18,
     "metadata": {},
     "output_type": "execute_result"
    }
   ],
   "source": [
    "y"
   ]
  },
  {
   "cell_type": "code",
   "execution_count": 7,
   "metadata": {},
   "outputs": [
    {
     "data": {
      "text/plain": [
       "(20, 3, 16, 112, 112)"
      ]
     },
     "execution_count": 7,
     "metadata": {},
     "output_type": "execute_result"
    }
   ],
   "source": [
    "train_data.shape"
   ]
  },
  {
   "cell_type": "code",
   "execution_count": 12,
   "metadata": {},
   "outputs": [],
   "source": [
    "train_data_dir,val_data_dir = Load.read_datasets_txt('train.txt','val.txt')"
   ]
  },
  {
   "cell_type": "code",
   "execution_count": 13,
   "metadata": {},
   "outputs": [
    {
     "ename": "TypeError",
     "evalue": "read_batch_txt() missing 1 required positional argument: 'batch_txt'",
     "output_type": "error",
     "traceback": [
      "\u001b[1;31m---------------------------------------------------------------------------\u001b[0m",
      "\u001b[1;31mTypeError\u001b[0m                                 Traceback (most recent call last)",
      "\u001b[1;32m<ipython-input-13-ed2dfc52bffe>\u001b[0m in \u001b[0;36m<module>\u001b[1;34m\u001b[0m\n\u001b[1;32m----> 1\u001b[1;33m \u001b[0mtrain_data\u001b[0m\u001b[1;33m,\u001b[0m \u001b[0mtrain_label\u001b[0m \u001b[1;33m=\u001b[0m \u001b[0mLoad\u001b[0m\u001b[1;33m.\u001b[0m\u001b[0mread_batch_txt\u001b[0m\u001b[1;33m(\u001b[0m\u001b[0mtrain_data_dir\u001b[0m\u001b[1;33m)\u001b[0m\u001b[1;33m\u001b[0m\u001b[1;33m\u001b[0m\u001b[0m\n\u001b[0m",
      "\u001b[1;31mTypeError\u001b[0m: read_batch_txt() missing 1 required positional argument: 'batch_txt'"
     ]
    }
   ],
   "source": [
    "train_data, train_label = Load.read_batch_txt(train_data_dir)"
   ]
  },
  {
   "cell_type": "code",
   "execution_count": 10,
   "metadata": {},
   "outputs": [
    {
     "name": "stdout",
     "output_type": "stream",
     "text": [
      "./datasets/8/2/240.jpg ./datasets/8/2/241.jpg ./datasets/8/2/242.jpg ./datasets/8/2/243.jpg ./datasets/8/2/244.jpg ./datasets/8/2/245.jpg ./datasets/8/2/246.jpg ./datasets/8/2/247.jpg ./datasets/8/2/248.jpg ./datasets/8/2/249.jpg ./datasets/8/2/250.jpg ./datasets/8/2/251.jpg ./datasets/8/2/252.jpg ./datasets/8/2/253.jpg ./datasets/8/2/254.jpg ./datasets/8/2/255.jpg 8\n",
      "./datasets/7/7/27806.jpg ./datasets/7/7/27807.jpg ./datasets/7/7/27808.jpg ./datasets/7/7/27809.jpg ./datasets/7/7/27810.jpg ./datasets/7/7/27811.jpg ./datasets/7/7/27812.jpg ./datasets/7/7/27813.jpg ./datasets/7/7/27814.jpg ./datasets/7/7/27815.jpg ./datasets/7/7/27816.jpg ./datasets/7/7/27817.jpg ./datasets/7/7/27818.jpg ./datasets/7/7/27819.jpg ./datasets/7/7/27820.jpg ./datasets/7/7/27821.jpg 7\n",
      "./datasets/0/5/3702.jpg ./datasets/0/5/3703.jpg ./datasets/0/5/3704.jpg ./datasets/0/5/3705.jpg ./datasets/0/5/3706.jpg ./datasets/0/5/3707.jpg ./datasets/0/5/3708.jpg ./datasets/0/5/3709.jpg ./datasets/0/5/3710.jpg ./datasets/0/5/3711.jpg ./datasets/0/5/3712.jpg ./datasets/0/5/3713.jpg ./datasets/0/5/3714.jpg ./datasets/0/5/3715.jpg ./datasets/0/5/3716.jpg ./datasets/0/5/3717.jpg 0\n",
      "./datasets/0/1/347.jpg ./datasets/0/1/348.jpg ./datasets/0/1/349.jpg ./datasets/0/1/350.jpg ./datasets/0/1/351.jpg ./datasets/0/1/352.jpg ./datasets/0/1/353.jpg ./datasets/0/1/354.jpg ./datasets/0/1/355.jpg ./datasets/0/1/356.jpg ./datasets/0/1/357.jpg ./datasets/0/1/358.jpg ./datasets/0/1/359.jpg ./datasets/0/1/360.jpg ./datasets/0/1/361.jpg ./datasets/0/1/362.jpg 0\n",
      "./datasets/7/1/1480.jpg ./datasets/7/1/1481.jpg ./datasets/7/1/1482.jpg ./datasets/7/1/1483.jpg ./datasets/7/1/1484.jpg ./datasets/7/1/1485.jpg ./datasets/7/1/1486.jpg ./datasets/7/1/1487.jpg ./datasets/7/1/1488.jpg ./datasets/7/1/1489.jpg ./datasets/7/1/1490.jpg ./datasets/7/1/1491.jpg ./datasets/7/1/1492.jpg ./datasets/7/1/1493.jpg ./datasets/7/1/1494.jpg ./datasets/7/1/1495.jpg 7\n",
      "./datasets/4/3/15702.jpg ./datasets/4/3/15703.jpg ./datasets/4/3/15704.jpg ./datasets/4/3/15705.jpg ./datasets/4/3/15706.jpg ./datasets/4/3/15707.jpg ./datasets/4/3/15708.jpg ./datasets/4/3/15709.jpg ./datasets/4/3/15710.jpg ./datasets/4/3/15711.jpg ./datasets/4/3/15712.jpg ./datasets/4/3/15713.jpg ./datasets/4/3/15714.jpg ./datasets/4/3/15715.jpg ./datasets/4/3/15716.jpg ./datasets/4/3/15717.jpg 4\n",
      "./datasets/4/5/16831.jpg ./datasets/4/5/16832.jpg ./datasets/4/5/16833.jpg ./datasets/4/5/16834.jpg ./datasets/4/5/16835.jpg ./datasets/4/5/16836.jpg ./datasets/4/5/16837.jpg ./datasets/4/5/16838.jpg ./datasets/4/5/16839.jpg ./datasets/4/5/16840.jpg ./datasets/4/5/16841.jpg ./datasets/4/5/16842.jpg ./datasets/4/5/16843.jpg ./datasets/4/5/16844.jpg ./datasets/4/5/16845.jpg ./datasets/4/5/16846.jpg 4\n",
      "./datasets/2/2/7748.jpg ./datasets/2/2/7749.jpg ./datasets/2/2/7750.jpg ./datasets/2/2/7751.jpg ./datasets/2/2/7752.jpg ./datasets/2/2/7753.jpg ./datasets/2/2/7754.jpg ./datasets/2/2/7755.jpg ./datasets/2/2/7756.jpg ./datasets/2/2/7757.jpg ./datasets/2/2/7758.jpg ./datasets/2/2/7759.jpg ./datasets/2/2/7760.jpg ./datasets/2/2/7761.jpg ./datasets/2/2/7762.jpg ./datasets/2/2/7763.jpg 2\n",
      "./datasets/6/2/646.jpg ./datasets/6/2/647.jpg ./datasets/6/2/648.jpg ./datasets/6/2/649.jpg ./datasets/6/2/650.jpg ./datasets/6/2/651.jpg ./datasets/6/2/652.jpg ./datasets/6/2/653.jpg ./datasets/6/2/654.jpg ./datasets/6/2/655.jpg ./datasets/6/2/656.jpg ./datasets/6/2/657.jpg ./datasets/6/2/658.jpg ./datasets/6/2/659.jpg ./datasets/6/2/660.jpg ./datasets/6/2/661.jpg 6\n",
      "./datasets/2/7/8064.jpg ./datasets/2/7/8065.jpg ./datasets/2/7/8066.jpg ./datasets/2/7/8067.jpg ./datasets/2/7/8068.jpg ./datasets/2/7/8069.jpg ./datasets/2/7/8070.jpg ./datasets/2/7/8071.jpg ./datasets/2/7/8072.jpg ./datasets/2/7/8073.jpg ./datasets/2/7/8074.jpg ./datasets/2/7/8075.jpg ./datasets/2/7/8076.jpg ./datasets/2/7/8077.jpg ./datasets/2/7/8078.jpg ./datasets/2/7/8079.jpg 2\n",
      "./datasets/7/9/36361.jpg ./datasets/7/9/36362.jpg ./datasets/7/9/36363.jpg ./datasets/7/9/36364.jpg ./datasets/7/9/36365.jpg ./datasets/7/9/36366.jpg ./datasets/7/9/36367.jpg ./datasets/7/9/36368.jpg ./datasets/7/9/36369.jpg ./datasets/7/9/36370.jpg ./datasets/7/9/36371.jpg ./datasets/7/9/36372.jpg ./datasets/7/9/36373.jpg ./datasets/7/9/36374.jpg ./datasets/7/9/36375.jpg ./datasets/7/9/36376.jpg 7\n",
      "./datasets/6/1/457.jpg ./datasets/6/1/458.jpg ./datasets/6/1/459.jpg ./datasets/6/1/460.jpg ./datasets/6/1/461.jpg ./datasets/6/1/462.jpg ./datasets/6/1/463.jpg ./datasets/6/1/464.jpg ./datasets/6/1/465.jpg ./datasets/6/1/466.jpg ./datasets/6/1/467.jpg ./datasets/6/1/468.jpg ./datasets/6/1/469.jpg ./datasets/6/1/470.jpg ./datasets/6/1/471.jpg ./datasets/6/1/472.jpg 6\n",
      "./datasets/5/5/1030.jpg ./datasets/5/5/1031.jpg ./datasets/5/5/1032.jpg ./datasets/5/5/1033.jpg ./datasets/5/5/1034.jpg ./datasets/5/5/1035.jpg ./datasets/5/5/1036.jpg ./datasets/5/5/1037.jpg ./datasets/5/5/1038.jpg ./datasets/5/5/1039.jpg ./datasets/5/5/1040.jpg ./datasets/5/5/1041.jpg ./datasets/5/5/1042.jpg ./datasets/5/5/1043.jpg ./datasets/5/5/1044.jpg ./datasets/5/5/1045.jpg 5\n",
      "./datasets/8/1/119.jpg ./datasets/8/1/120.jpg ./datasets/8/1/121.jpg ./datasets/8/1/122.jpg ./datasets/8/1/123.jpg ./datasets/8/1/124.jpg ./datasets/8/1/125.jpg ./datasets/8/1/126.jpg ./datasets/8/1/127.jpg ./datasets/8/1/128.jpg ./datasets/8/1/129.jpg ./datasets/8/1/130.jpg ./datasets/8/1/131.jpg ./datasets/8/1/132.jpg ./datasets/8/1/133.jpg ./datasets/8/1/134.jpg 8\n",
      "./datasets/2/10/32625.jpg ./datasets/2/10/32626.jpg ./datasets/2/10/32627.jpg ./datasets/2/10/32628.jpg ./datasets/2/10/32629.jpg ./datasets/2/10/32630.jpg ./datasets/2/10/32631.jpg ./datasets/2/10/32632.jpg ./datasets/2/10/32633.jpg ./datasets/2/10/32634.jpg ./datasets/2/10/32635.jpg ./datasets/2/10/32636.jpg ./datasets/2/10/32637.jpg ./datasets/2/10/32638.jpg ./datasets/2/10/32639.jpg ./datasets/2/10/32640.jpg 2\n",
      "./datasets/0/3/691.jpg ./datasets/0/3/692.jpg ./datasets/0/3/693.jpg ./datasets/0/3/694.jpg ./datasets/0/3/695.jpg ./datasets/0/3/696.jpg ./datasets/0/3/697.jpg ./datasets/0/3/698.jpg ./datasets/0/3/699.jpg ./datasets/0/3/700.jpg ./datasets/0/3/701.jpg ./datasets/0/3/702.jpg ./datasets/0/3/703.jpg ./datasets/0/3/704.jpg ./datasets/0/3/705.jpg ./datasets/0/3/706.jpg 0\n",
      "./datasets/2/8/8064.jpg ./datasets/2/8/8065.jpg ./datasets/2/8/8066.jpg ./datasets/2/8/8067.jpg ./datasets/2/8/8068.jpg ./datasets/2/8/8069.jpg ./datasets/2/8/8070.jpg ./datasets/2/8/8071.jpg ./datasets/2/8/8072.jpg ./datasets/2/8/8073.jpg ./datasets/2/8/8074.jpg ./datasets/2/8/8075.jpg ./datasets/2/8/8076.jpg ./datasets/2/8/8077.jpg ./datasets/2/8/8078.jpg ./datasets/2/8/8079.jpg 2\n",
      "./datasets/4/8/22020.jpg ./datasets/4/8/22021.jpg ./datasets/4/8/22022.jpg ./datasets/4/8/22023.jpg ./datasets/4/8/22024.jpg ./datasets/4/8/22025.jpg ./datasets/4/8/22026.jpg ./datasets/4/8/22027.jpg ./datasets/4/8/22028.jpg ./datasets/4/8/22029.jpg ./datasets/4/8/22030.jpg ./datasets/4/8/22031.jpg ./datasets/4/8/22032.jpg ./datasets/4/8/22033.jpg ./datasets/4/8/22034.jpg ./datasets/4/8/22035.jpg 4\n",
      "./datasets/3/6/1100.jpg ./datasets/3/6/1101.jpg ./datasets/3/6/1102.jpg ./datasets/3/6/1103.jpg ./datasets/3/6/1104.jpg ./datasets/3/6/1105.jpg ./datasets/3/6/1106.jpg ./datasets/3/6/1107.jpg ./datasets/3/6/1108.jpg ./datasets/3/6/1109.jpg ./datasets/3/6/1110.jpg ./datasets/3/6/1111.jpg ./datasets/3/6/1112.jpg ./datasets/3/6/1113.jpg ./datasets/3/6/1114.jpg ./datasets/3/6/1115.jpg 3\n",
      "./datasets/3/4/2983.jpg ./datasets/3/4/2984.jpg ./datasets/3/4/2985.jpg ./datasets/3/4/2986.jpg ./datasets/3/4/2987.jpg ./datasets/3/4/2988.jpg ./datasets/3/4/2989.jpg ./datasets/3/4/2990.jpg ./datasets/3/4/2991.jpg ./datasets/3/4/2992.jpg ./datasets/3/4/2993.jpg ./datasets/3/4/2994.jpg ./datasets/3/4/2995.jpg ./datasets/3/4/2996.jpg ./datasets/3/4/2997.jpg ./datasets/3/4/2998.jpg 3\n"
     ]
    }
   ],
   "source": [
    "if __name__ == \"__main__\":\n",
    "    a = Load()\n",
    "    train_data_dir,val_data_dir = a.read_datasets_txt('train.txt','val.txt')\n",
    "    train_data, train_label = a.read_batch_txt(train_data_dir)"
   ]
  },
  {
   "cell_type": "code",
   "execution_count": 8,
   "metadata": {},
   "outputs": [
    {
     "data": {
      "text/plain": [
       "20"
      ]
     },
     "execution_count": 8,
     "metadata": {},
     "output_type": "execute_result"
    }
   ],
   "source": [
    "len(train_data_dir)"
   ]
  },
  {
   "cell_type": "code",
   "execution_count": 4,
   "metadata": {},
   "outputs": [],
   "source": [
    "from train import Train_API\n",
    "a = Train_API()"
   ]
  },
  {
   "cell_type": "code",
   "execution_count": 5,
   "metadata": {},
   "outputs": [
    {
     "data": {
      "text/plain": [
       "<train.Train_API at 0x277aa08cd88>"
      ]
     },
     "execution_count": 5,
     "metadata": {},
     "output_type": "execute_result"
    }
   ],
   "source": [
    "a"
   ]
  },
  {
   "cell_type": "code",
   "execution_count": 7,
   "metadata": {},
   "outputs": [
    {
     "name": "stdout",
     "output_type": "stream",
     "text": [
      "Original data load finished!\n"
     ]
    }
   ],
   "source": [
    "z,x,c,v=a.data_init()"
   ]
  },
  {
   "cell_type": "code",
   "execution_count": 9,
   "metadata": {},
   "outputs": [
    {
     "data": {
      "text/plain": [
       "(20, 3, 16, 112, 112)"
      ]
     },
     "execution_count": 9,
     "metadata": {},
     "output_type": "execute_result"
    }
   ],
   "source": [
    "z.shape"
   ]
  },
  {
   "cell_type": "code",
   "execution_count": 37,
   "metadata": {},
   "outputs": [],
   "source": [
    "from dataload import Load\n",
    "from network import C3D\n",
    "from torch.autograd import Variable\n",
    "from torch.utils.data import DataLoader\n",
    "import torch.optim as optim\n",
    "import torch.nn.functional as F"
   ]
  },
  {
   "cell_type": "code",
   "execution_count": 9,
   "metadata": {},
   "outputs": [],
   "source": [
    "model = C3D()"
   ]
  },
  {
   "cell_type": "code",
   "execution_count": 10,
   "metadata": {},
   "outputs": [
    {
     "data": {
      "text/plain": [
       "<generator object Module.parameters at 0x000002E6D7DB18C8>"
      ]
     },
     "execution_count": 10,
     "metadata": {},
     "output_type": "execute_result"
    }
   ],
   "source": [
    "model.parameters()"
   ]
  },
  {
   "cell_type": "code",
   "execution_count": 11,
   "metadata": {},
   "outputs": [],
   "source": [
    "load = Load()\n",
    "def data_init():\n",
    "    '''\n",
    "    初始化数据\n",
    "    '''\n",
    "    train_data_dir,val_data_dir = load.read_datasets_txt('train.txt','val.txt')\n",
    "    print(\"Original data load finished!\")\n",
    "    return train_data_dir,val_data_dir"
   ]
  },
  {
   "cell_type": "code",
   "execution_count": 42,
   "metadata": {},
   "outputs": [
    {
     "name": "stdout",
     "output_type": "stream",
     "text": [
      "Original data load finished!\n"
     ]
    }
   ],
   "source": [
    "train_data_dir,val_data_dir = data_init()\n",
    "train_loader = DataLoader(train_data_dir, batch_size=3, shuffle=True)\n",
    "val = DataLoader(val_data_dir, batch_size=1, shuffle=False)\n",
    "model = C3D()\n",
    "if torch.cuda.is_available():\n",
    "    model = model.cuda()"
   ]
  },
  {
   "cell_type": "code",
   "execution_count": 43,
   "metadata": {},
   "outputs": [],
   "source": [
    "criterion = nn.CrossEntropyLoss()\n",
    "optimizer = optim.Adam(model.parameters(), lr=10e-4)\n",
    "epoch = 0"
   ]
  },
  {
   "cell_type": "code",
   "execution_count": 44,
   "metadata": {},
   "outputs": [
    {
     "name": "stdout",
     "output_type": "stream",
     "text": [
      "2.8745970726013184\n",
      "2.775162696838379\n",
      "2.8745968341827393\n",
      "2.207930326461792\n",
      "2.8745968341827393\n",
      "2.8745968341827393\n",
      "2.8745968341827393\n"
     ]
    }
   ],
   "source": [
    "# 以下修订\n",
    "for data in train_loader:\n",
    "    train_data, train_label = load.read_batch_txt(data)\n",
    "    if torch.cuda.is_available():\n",
    "        train_data = torch.cuda.FloatTensor(train_data)\n",
    "        train_label = torch.cuda.LongTensor(train_label)\n",
    "    else:\n",
    "        train_data = Variable(torch.FloatTensor(train_data))\n",
    "        train_label = Variable(torch.LongTensor(train_label))\n",
    "    out = model(train_data)\n",
    "    print_loss = loss.data.item()\n",
    "    print(print_loss)\n",
    "    loss = criterion(out, train_label)\n",
    "    optimizer.zero_grad()\n",
    "    loss.backward()\n",
    "    optimizer.step()\n",
    "    "
   ]
  },
  {
   "cell_type": "code",
   "execution_count": 46,
   "metadata": {},
   "outputs": [
    {
     "ename": "RuntimeError",
     "evalue": "Trying to backward through the graph a second time, but the saved intermediate results have already been freed. Specify retain_graph=True when calling backward the first time.",
     "output_type": "error",
     "traceback": [
      "\u001b[1;31m---------------------------------------------------------------------------\u001b[0m",
      "\u001b[1;31mRuntimeError\u001b[0m                              Traceback (most recent call last)",
      "\u001b[1;32m<ipython-input-46-7c88506a7f95>\u001b[0m in \u001b[0;36m<module>\u001b[1;34m\u001b[0m\n\u001b[0;32m      1\u001b[0m \u001b[0mloss\u001b[0m \u001b[1;33m=\u001b[0m \u001b[0mcriterion\u001b[0m\u001b[1;33m(\u001b[0m\u001b[0mout\u001b[0m\u001b[1;33m,\u001b[0m \u001b[0mtrain_label\u001b[0m\u001b[1;33m)\u001b[0m\u001b[1;33m\u001b[0m\u001b[1;33m\u001b[0m\u001b[0m\n\u001b[0;32m      2\u001b[0m \u001b[0moptimizer\u001b[0m\u001b[1;33m.\u001b[0m\u001b[0mzero_grad\u001b[0m\u001b[1;33m(\u001b[0m\u001b[1;33m)\u001b[0m\u001b[1;33m\u001b[0m\u001b[1;33m\u001b[0m\u001b[0m\n\u001b[1;32m----> 3\u001b[1;33m \u001b[0mloss\u001b[0m\u001b[1;33m.\u001b[0m\u001b[0mbackward\u001b[0m\u001b[1;33m(\u001b[0m\u001b[1;33m)\u001b[0m\u001b[1;33m\u001b[0m\u001b[1;33m\u001b[0m\u001b[0m\n\u001b[0m\u001b[0;32m      4\u001b[0m \u001b[0moptimizer\u001b[0m\u001b[1;33m.\u001b[0m\u001b[0mstep\u001b[0m\u001b[1;33m(\u001b[0m\u001b[1;33m)\u001b[0m\u001b[1;33m\u001b[0m\u001b[1;33m\u001b[0m\u001b[0m\n",
      "\u001b[1;32mG:\\anaconda\\lib\\site-packages\\torch\\tensor.py\u001b[0m in \u001b[0;36mbackward\u001b[1;34m(self, gradient, retain_graph, create_graph)\u001b[0m\n\u001b[0;32m    183\u001b[0m                 \u001b[0mproducts\u001b[0m\u001b[1;33m.\u001b[0m \u001b[0mDefaults\u001b[0m \u001b[0mto\u001b[0m\u001b[0;31m \u001b[0m\u001b[0;31m`\u001b[0m\u001b[0;31m`\u001b[0m\u001b[1;32mFalse\u001b[0m\u001b[0;31m`\u001b[0m\u001b[0;31m`\u001b[0m\u001b[1;33m.\u001b[0m\u001b[1;33m\u001b[0m\u001b[1;33m\u001b[0m\u001b[0m\n\u001b[0;32m    184\u001b[0m         \"\"\"\n\u001b[1;32m--> 185\u001b[1;33m         \u001b[0mtorch\u001b[0m\u001b[1;33m.\u001b[0m\u001b[0mautograd\u001b[0m\u001b[1;33m.\u001b[0m\u001b[0mbackward\u001b[0m\u001b[1;33m(\u001b[0m\u001b[0mself\u001b[0m\u001b[1;33m,\u001b[0m \u001b[0mgradient\u001b[0m\u001b[1;33m,\u001b[0m \u001b[0mretain_graph\u001b[0m\u001b[1;33m,\u001b[0m \u001b[0mcreate_graph\u001b[0m\u001b[1;33m)\u001b[0m\u001b[1;33m\u001b[0m\u001b[1;33m\u001b[0m\u001b[0m\n\u001b[0m\u001b[0;32m    186\u001b[0m \u001b[1;33m\u001b[0m\u001b[0m\n\u001b[0;32m    187\u001b[0m     \u001b[1;32mdef\u001b[0m \u001b[0mregister_hook\u001b[0m\u001b[1;33m(\u001b[0m\u001b[0mself\u001b[0m\u001b[1;33m,\u001b[0m \u001b[0mhook\u001b[0m\u001b[1;33m)\u001b[0m\u001b[1;33m:\u001b[0m\u001b[1;33m\u001b[0m\u001b[1;33m\u001b[0m\u001b[0m\n",
      "\u001b[1;32mG:\\anaconda\\lib\\site-packages\\torch\\autograd\\__init__.py\u001b[0m in \u001b[0;36mbackward\u001b[1;34m(tensors, grad_tensors, retain_graph, create_graph, grad_variables)\u001b[0m\n\u001b[0;32m    125\u001b[0m     Variable._execution_engine.run_backward(\n\u001b[0;32m    126\u001b[0m         \u001b[0mtensors\u001b[0m\u001b[1;33m,\u001b[0m \u001b[0mgrad_tensors\u001b[0m\u001b[1;33m,\u001b[0m \u001b[0mretain_graph\u001b[0m\u001b[1;33m,\u001b[0m \u001b[0mcreate_graph\u001b[0m\u001b[1;33m,\u001b[0m\u001b[1;33m\u001b[0m\u001b[1;33m\u001b[0m\u001b[0m\n\u001b[1;32m--> 127\u001b[1;33m         allow_unreachable=True)  # allow_unreachable flag\n\u001b[0m\u001b[0;32m    128\u001b[0m \u001b[1;33m\u001b[0m\u001b[0m\n\u001b[0;32m    129\u001b[0m \u001b[1;33m\u001b[0m\u001b[0m\n",
      "\u001b[1;31mRuntimeError\u001b[0m: Trying to backward through the graph a second time, but the saved intermediate results have already been freed. Specify retain_graph=True when calling backward the first time."
     ]
    }
   ],
   "source": [
    "loss = criterion(out, train_label)\n",
    "optimizer.zero_grad()\n",
    "loss.backward()\n",
    "optimizer.step()"
   ]
  },
  {
   "cell_type": "code",
   "execution_count": 57,
   "metadata": {},
   "outputs": [],
   "source": [
    "pred = out.argmax(dim=1, keepdim=True)"
   ]
  },
  {
   "cell_type": "code",
   "execution_count": 61,
   "metadata": {},
   "outputs": [],
   "source": [
    "pred[0,0]=7"
   ]
  },
  {
   "cell_type": "code",
   "execution_count": 68,
   "metadata": {},
   "outputs": [
    {
     "data": {
      "text/plain": [
       "'torch.cuda.LongTensor'"
      ]
     },
     "execution_count": 68,
     "metadata": {},
     "output_type": "execute_result"
    }
   ],
   "source": [
    "train_label.type()"
   ]
  },
  {
   "cell_type": "code",
   "execution_count": 63,
   "metadata": {},
   "outputs": [
    {
     "data": {
      "text/plain": [
       "1"
      ]
     },
     "execution_count": 63,
     "metadata": {},
     "output_type": "execute_result"
    }
   ],
   "source": [
    "pred.eq(train_label.view_as(pred)).sum().item()"
   ]
  },
  {
   "cell_type": "code",
   "execution_count": 24,
   "metadata": {},
   "outputs": [],
   "source": [
    "print_loss = loss.data.item()"
   ]
  },
  {
   "cell_type": "code",
   "execution_count": 53,
   "metadata": {},
   "outputs": [
    {
     "data": {
      "text/plain": [
       "tensor([7, 2], device='cuda:0')"
      ]
     },
     "execution_count": 53,
     "metadata": {},
     "output_type": "execute_result"
    }
   ],
   "source": [
    "train_label"
   ]
  },
  {
   "cell_type": "code",
   "execution_count": 50,
   "metadata": {},
   "outputs": [],
   "source": [
    "loss = criterion(out, train_label)"
   ]
  },
  {
   "cell_type": "code",
   "execution_count": 65,
   "metadata": {},
   "outputs": [
    {
     "data": {
      "text/plain": [
       "2.8745970726013184"
      ]
     },
     "execution_count": 65,
     "metadata": {},
     "output_type": "execute_result"
    }
   ],
   "source": [
    "loss.item()"
   ]
  },
  {
   "cell_type": "code",
   "execution_count": 35,
   "metadata": {},
   "outputs": [
    {
     "name": "stdout",
     "output_type": "stream",
     "text": [
      "loss=2.874597\n"
     ]
    }
   ],
   "source": [
    "print(\"loss=%f\"%print_loss)"
   ]
  },
  {
   "cell_type": "code",
   "execution_count": 66,
   "metadata": {},
   "outputs": [],
   "source": [
    "val_data, val_label = load.read_batch_txt(data)"
   ]
  },
  {
   "cell_type": "code",
   "execution_count": 67,
   "metadata": {},
   "outputs": [
    {
     "data": {
      "text/plain": [
       "[7, 2]"
      ]
     },
     "execution_count": 67,
     "metadata": {},
     "output_type": "execute_result"
    }
   ],
   "source": [
    "val_label"
   ]
  },
  {
   "cell_type": "code",
   "execution_count": 52,
   "metadata": {},
   "outputs": [
    {
     "data": {
      "text/plain": [
       "tensor([[[[[171., 178., 161.,  ...,   9.,   8.,   9.],\n",
       "           [173., 181., 158.,  ...,   9.,  10.,  12.],\n",
       "           [168., 163., 163.,  ...,   8.,   8.,   7.],\n",
       "           ...,\n",
       "           [116., 128., 132.,  ...,  13.,  12.,  12.],\n",
       "           [125., 127., 130.,  ...,  12.,  11.,  14.],\n",
       "           [119., 126.,  93.,  ...,  13.,  16.,  10.]],\n",
       "\n",
       "          [[171., 178., 161.,  ...,   9.,   8.,   9.],\n",
       "           [173., 181., 158.,  ...,   9.,  10.,  12.],\n",
       "           [168., 163., 163.,  ...,   8.,   8.,   7.],\n",
       "           ...,\n",
       "           [116., 128., 132.,  ...,  13.,  12.,  12.],\n",
       "           [125., 127., 130.,  ...,  12.,  11.,  14.],\n",
       "           [119., 126.,  93.,  ...,  13.,  16.,  10.]],\n",
       "\n",
       "          [[171., 178., 161.,  ...,   9.,   8.,   9.],\n",
       "           [173., 181., 158.,  ...,   9.,  10.,  10.],\n",
       "           [168., 163., 162.,  ...,   8.,   8.,   7.],\n",
       "           ...,\n",
       "           [115., 127., 132.,  ...,  10.,  12.,  13.],\n",
       "           [119., 127., 131.,  ...,  10.,  10.,  14.],\n",
       "           [121., 126.,  94.,  ...,  13.,  16.,  10.]],\n",
       "\n",
       "          ...,\n",
       "\n",
       "          [[171., 178., 160.,  ...,   9.,  14.,   9.],\n",
       "           [173., 181., 159.,  ...,   9.,   9.,   9.],\n",
       "           [168., 164., 163.,  ...,   9.,  10.,   7.],\n",
       "           ...,\n",
       "           [114., 130., 132.,  ...,  16.,  11.,  11.],\n",
       "           [120., 126., 131.,  ...,  11.,   9.,  13.],\n",
       "           [128., 128.,  94.,  ...,  10.,  16.,  12.]],\n",
       "\n",
       "          [[171., 178., 161.,  ...,   6.,  18.,   9.],\n",
       "           [173., 181., 157.,  ...,   8.,   8.,   6.],\n",
       "           [168., 165., 163.,  ...,   7.,  12.,   5.],\n",
       "           ...,\n",
       "           [117., 131., 132.,  ...,  16.,   5.,   6.],\n",
       "           [124., 125., 132.,  ...,  11.,  12.,  13.],\n",
       "           [131., 128.,  93.,  ...,  11.,  13.,  15.]],\n",
       "\n",
       "          [[173., 178., 162.,  ...,   8.,  16.,  10.],\n",
       "           [173., 184., 160.,  ...,   7.,  10.,   8.],\n",
       "           [167., 168., 163.,  ...,   8.,  12.,   7.],\n",
       "           ...,\n",
       "           [115., 136., 132.,  ...,  13.,  10.,   6.],\n",
       "           [119., 122., 131.,  ...,  11.,  11.,  15.],\n",
       "           [125., 127.,  94.,  ...,  16.,  15.,  15.]]],\n",
       "\n",
       "\n",
       "         [[[172., 179., 150.,  ...,  14.,  13.,  14.],\n",
       "           [178., 183., 151.,  ...,  13.,  13.,  17.],\n",
       "           [181., 176., 154.,  ...,  12.,  12.,  12.],\n",
       "           ...,\n",
       "           [125., 122., 126.,  ...,  14.,  13.,  13.],\n",
       "           [132., 120., 123.,  ...,  13.,  12.,  15.],\n",
       "           [128., 124.,  95.,  ...,  14.,  15.,  11.]],\n",
       "\n",
       "          [[172., 179., 150.,  ...,  14.,  13.,  14.],\n",
       "           [178., 183., 151.,  ...,  13.,  13.,  17.],\n",
       "           [181., 176., 154.,  ...,  12.,  12.,  12.],\n",
       "           ...,\n",
       "           [125., 122., 126.,  ...,  14.,  13.,  13.],\n",
       "           [132., 120., 123.,  ...,  13.,  12.,  15.],\n",
       "           [128., 124.,  95.,  ...,  14.,  15.,  11.]],\n",
       "\n",
       "          [[172., 179., 150.,  ...,  14.,  13.,  14.],\n",
       "           [178., 183., 151.,  ...,  13.,  13.,  13.],\n",
       "           [181., 176., 155.,  ...,  12.,  12.,  12.],\n",
       "           ...,\n",
       "           [125., 120., 126.,  ...,  12.,  13.,  14.],\n",
       "           [130., 122., 126.,  ...,  11.,  11.,  15.],\n",
       "           [128., 124.,  95.,  ...,  14.,  15.,  11.]],\n",
       "\n",
       "          ...,\n",
       "\n",
       "          [[172., 179., 150.,  ...,  14.,  14.,  12.],\n",
       "           [178., 183., 151.,  ...,  12.,  12.,  14.],\n",
       "           [181., 175., 155.,  ...,  12.,  13.,  12.],\n",
       "           ...,\n",
       "           [124., 124., 125.,  ...,  17.,  12.,  11.],\n",
       "           [129., 120., 125.,  ...,  12.,  10.,  13.],\n",
       "           [127., 122.,  94.,  ...,   7.,  12.,  10.]],\n",
       "\n",
       "          [[172., 179., 150.,  ...,  12.,  18.,  12.],\n",
       "           [178., 183., 152.,  ...,  11.,  11.,  11.],\n",
       "           [181., 176., 155.,  ...,  10.,  15.,  10.],\n",
       "           ...,\n",
       "           [124., 128., 125.,  ...,  17.,   5.,   6.],\n",
       "           [129., 119., 125.,  ...,  12.,  13.,  13.],\n",
       "           [128., 123.,  94.,  ...,   9.,  10.,  12.]],\n",
       "\n",
       "          [[169., 179., 150.,  ...,  13.,  16.,  12.],\n",
       "           [178., 182., 152.,  ...,  12.,  13.,  13.],\n",
       "           [181., 174., 154.,  ...,  11.,  15.,   9.],\n",
       "           ...,\n",
       "           [125., 129., 124.,  ...,  14.,  10.,   6.],\n",
       "           [127., 119., 124.,  ...,  12.,  13.,  15.],\n",
       "           [128., 124.,  94.,  ...,  14.,  13.,  12.]]],\n",
       "\n",
       "\n",
       "         [[[182., 189., 153.,  ...,  13.,  12.,  13.],\n",
       "           [181., 185., 151.,  ...,   8.,  11.,  16.],\n",
       "           [178., 175., 150.,  ...,  10.,  10.,  11.],\n",
       "           ...,\n",
       "           [123., 110., 116.,  ...,  12.,  10.,  12.],\n",
       "           [129., 111., 112.,  ...,  11.,   8.,  13.],\n",
       "           [125., 112.,  77.,  ...,  10.,  11.,   9.]],\n",
       "\n",
       "          [[182., 189., 153.,  ...,  13.,  12.,  13.],\n",
       "           [181., 185., 151.,  ...,   8.,  11.,  16.],\n",
       "           [178., 175., 150.,  ...,  10.,  10.,  11.],\n",
       "           ...,\n",
       "           [123., 110., 116.,  ...,  12.,  10.,  12.],\n",
       "           [129., 111., 112.,  ...,  11.,   8.,  13.],\n",
       "           [125., 112.,  77.,  ...,  10.,  11.,   9.]],\n",
       "\n",
       "          [[182., 189., 153.,  ...,  13.,  12.,  13.],\n",
       "           [181., 185., 151.,  ...,   8.,  11.,  11.],\n",
       "           [178., 175., 148.,  ...,  10.,  10.,  11.],\n",
       "           ...,\n",
       "           [123., 109., 116.,  ...,  10.,  10.,  13.],\n",
       "           [127., 111., 115.,  ...,   9.,   7.,  13.],\n",
       "           [123., 111.,  78.,  ...,  10.,  11.,   9.]],\n",
       "\n",
       "          ...,\n",
       "\n",
       "          [[182., 189., 153.,  ...,  13.,  14.,  10.],\n",
       "           [181., 185., 151.,  ...,  10.,  10.,  13.],\n",
       "           [178., 174., 148.,  ...,  11.,  11.,  11.],\n",
       "           ...,\n",
       "           [121., 111., 116.,  ...,  15.,  10.,  11.],\n",
       "           [127., 107., 114.,  ...,  10.,   6.,  13.],\n",
       "           [123., 108.,  75.,  ...,   9.,  11.,  10.]],\n",
       "\n",
       "          [[182., 189., 153.,  ...,  11.,  18.,  10.],\n",
       "           [181., 185., 151.,  ...,   9.,   9.,  12.],\n",
       "           [178., 174., 148.,  ...,   8.,  14.,   8.],\n",
       "           ...,\n",
       "           [121., 115., 116.,  ...,  15.,   4.,   6.],\n",
       "           [127., 108., 116.,  ...,  10.,  11.,  13.],\n",
       "           [123., 109.,  76.,  ...,   9.,   6.,  14.]],\n",
       "\n",
       "          [[180., 190., 152.,  ...,  12.,  16.,  10.],\n",
       "           [181., 185., 151.,  ...,  11.,  11.,  14.],\n",
       "           [179., 174., 147.,  ...,   9.,  13.,   9.],\n",
       "           ...,\n",
       "           [122., 117., 116.,  ...,  12.,   9.,   6.],\n",
       "           [126., 104., 116.,  ...,  10.,  10.,  15.],\n",
       "           [122., 109.,  77.,  ...,  14.,  12.,  14.]]]],\n",
       "\n",
       "\n",
       "\n",
       "        [[[[178., 185., 154.,  ...,   6.,  11.,  10.],\n",
       "           [174., 185., 165.,  ...,   7.,   6.,   8.],\n",
       "           [172., 164., 166.,  ...,  12.,  10.,   6.],\n",
       "           ...,\n",
       "           [116., 128., 132.,  ...,  12.,   5.,  11.],\n",
       "           [115., 129., 128.,  ...,  12.,  11.,  15.],\n",
       "           [110., 136.,  98.,  ...,  13.,  13.,  13.]],\n",
       "\n",
       "          [[178., 185., 154.,  ...,   7.,  11.,  11.],\n",
       "           [174., 185., 165.,  ...,   7.,   6.,   9.],\n",
       "           [172., 164., 166.,  ...,  12.,  10.,   6.],\n",
       "           ...,\n",
       "           [116., 128., 132.,  ...,  12.,   6.,  10.],\n",
       "           [115., 129., 128.,  ...,  18.,   9.,  15.],\n",
       "           [110., 136.,  98.,  ...,  13.,   9.,   9.]],\n",
       "\n",
       "          [[178., 184., 154.,  ...,   7.,  11.,  11.],\n",
       "           [174., 185., 165.,  ...,   7.,   6.,   9.],\n",
       "           [172., 164., 166.,  ...,  12.,   8.,   7.],\n",
       "           ...,\n",
       "           [116., 130., 133.,  ...,   9.,   6.,   8.],\n",
       "           [115., 129., 129.,  ...,  15.,   7.,   9.],\n",
       "           [111., 135.,  97.,  ...,  11.,   7.,   7.]],\n",
       "\n",
       "          ...,\n",
       "\n",
       "          [[178., 183., 157.,  ...,  11.,  13.,  13.],\n",
       "           [174., 185., 167.,  ...,  11.,   9.,   8.],\n",
       "           [172., 164., 166.,  ...,  10.,   8.,  11.],\n",
       "           ...,\n",
       "           [117., 128., 133.,  ...,   7.,   9.,  11.],\n",
       "           [120., 128., 131.,  ...,  12.,   3.,  11.],\n",
       "           [115., 130.,  93.,  ...,   7.,  18.,   4.]],\n",
       "\n",
       "          [[178., 183., 157.,  ...,  11.,  13.,  14.],\n",
       "           [174., 185., 167.,  ...,  11.,   9.,   7.],\n",
       "           [172., 164., 166.,  ...,  10.,   8.,  11.],\n",
       "           ...,\n",
       "           [115., 129., 133.,  ...,   8.,  10.,  11.],\n",
       "           [116., 127., 129.,  ...,  12.,   2.,  11.],\n",
       "           [114., 130.,  93.,  ...,  10.,  18.,   5.]],\n",
       "\n",
       "          [[178., 183., 157.,  ...,  12.,  13.,  14.],\n",
       "           [174., 185., 167.,  ...,  11.,   9.,   7.],\n",
       "           [172., 164., 166.,  ...,   9.,   8.,  11.],\n",
       "           ...,\n",
       "           [116., 130., 132.,  ...,   9.,  10.,  11.],\n",
       "           [115., 128., 131.,  ...,  12.,   2.,  11.],\n",
       "           [116., 131.,  94.,  ...,  14.,  15.,   6.]]],\n",
       "\n",
       "\n",
       "         [[[174., 181., 145.,  ...,  13.,  13.,  15.],\n",
       "           [176., 181., 157.,  ...,  12.,  12.,  13.],\n",
       "           [181., 170., 153.,  ...,  14.,  12.,  11.],\n",
       "           ...,\n",
       "           [126., 124., 125.,  ...,  15.,   7.,  15.],\n",
       "           [123., 117., 124.,  ...,  15.,  15.,  16.],\n",
       "           [125., 120.,  94.,  ...,  14.,  14.,  14.]],\n",
       "\n",
       "          [[174., 181., 145.,  ...,  13.,  13.,  16.],\n",
       "           [176., 181., 157.,  ...,  12.,  12.,  14.],\n",
       "           [181., 170., 153.,  ...,  14.,  12.,  11.],\n",
       "           ...,\n",
       "           [126., 124., 125.,  ...,  15.,   8.,  14.],\n",
       "           [123., 117., 124.,  ...,  21.,  13.,  15.],\n",
       "           [125., 120.,  94.,  ...,  14.,  10.,  10.]],\n",
       "\n",
       "          [[174., 180., 145.,  ...,  13.,  13.,  16.],\n",
       "           [176., 181., 157.,  ...,  12.,  12.,  14.],\n",
       "           [181., 170., 153.,  ...,  14.,  11.,  12.],\n",
       "           ...,\n",
       "           [126., 125., 125.,  ...,  13.,   8.,  12.],\n",
       "           [123., 120., 125.,  ...,  19.,  10.,  13.],\n",
       "           [127., 119.,  94.,  ...,  12.,   8.,   8.]],\n",
       "\n",
       "          ...,\n",
       "\n",
       "          [[174., 179., 144.,  ...,  13.,  15.,  12.],\n",
       "           [176., 181., 159.,  ...,  15.,  14.,  13.],\n",
       "           [181., 170., 153.,  ...,  13.,  13.,  13.],\n",
       "           ...,\n",
       "           [125., 122., 124.,  ...,  10.,  13.,  11.],\n",
       "           [126., 116., 123.,  ...,  15.,   6.,  14.],\n",
       "           [123., 121.,  91.,  ...,  10.,  16.,   5.]],\n",
       "\n",
       "          [[174., 179., 144.,  ...,  13.,  15.,  12.],\n",
       "           [176., 181., 159.,  ...,  15.,  14.,  13.],\n",
       "           [181., 170., 153.,  ...,  13.,  13.,  13.],\n",
       "           ...,\n",
       "           [124., 123., 124.,  ...,  11.,  14.,  10.],\n",
       "           [127., 117., 123.,  ...,  15.,   5.,  14.],\n",
       "           [125., 123.,  93.,  ...,  12.,  16.,   6.]],\n",
       "\n",
       "          [[174., 179., 144.,  ...,  13.,  15.,  12.],\n",
       "           [176., 181., 159.,  ...,  15.,  14.,  13.],\n",
       "           [181., 170., 153.,  ...,  12.,  13.,  13.],\n",
       "           ...,\n",
       "           [127., 124., 123.,  ...,  12.,  14.,  10.],\n",
       "           [123., 117., 121.,  ...,  15.,   5.,  14.],\n",
       "           [124., 122.,  92.,  ...,  17.,  16.,   7.]]],\n",
       "\n",
       "\n",
       "         [[[186., 192., 148.,  ...,  10.,  13.,  14.],\n",
       "           [184., 192., 156.,  ...,  10.,  11.,  12.],\n",
       "           [183., 175., 155.,  ...,  12.,  14.,  10.],\n",
       "           ...,\n",
       "           [124., 110., 121.,  ...,  11.,   5.,  10.],\n",
       "           [122., 111., 113.,  ...,  13.,  10.,  14.],\n",
       "           [126., 112.,  88.,  ...,  12.,  12.,  12.]],\n",
       "\n",
       "          [[186., 192., 148.,  ...,  12.,  13.,  15.],\n",
       "           [184., 192., 156.,  ...,  10.,  11.,  13.],\n",
       "           [183., 175., 155.,  ...,  12.,  14.,  10.],\n",
       "           ...,\n",
       "           [124., 110., 121.,  ...,  11.,   6.,   9.],\n",
       "           [122., 111., 113.,  ...,  19.,   8.,  14.],\n",
       "           [126., 112.,  88.,  ...,  12.,   6.,   7.]],\n",
       "\n",
       "          [[186., 191., 148.,  ...,  12.,  13.,  15.],\n",
       "           [184., 192., 156.,  ...,  10.,  11.,  13.],\n",
       "           [183., 175., 155.,  ...,  12.,  15.,  11.],\n",
       "           ...,\n",
       "           [124., 111., 121.,  ...,  11.,   6.,   7.],\n",
       "           [122., 111., 114.,  ...,  14.,   7.,   8.],\n",
       "           [125., 112.,  87.,  ...,  10.,   4.,   6.]],\n",
       "\n",
       "          ...,\n",
       "\n",
       "          [[186., 190., 148.,  ...,   9.,  16.,  16.],\n",
       "           [184., 192., 158.,  ...,  11.,  13.,  11.],\n",
       "           [181., 175., 155.,  ...,  11.,  13.,  13.],\n",
       "           ...,\n",
       "           [123., 112., 120.,  ...,   7.,  10.,   7.],\n",
       "           [125., 110., 110.,  ...,  13.,   4.,  12.],\n",
       "           [123., 110.,  82.,  ...,   8.,  15.,   3.]],\n",
       "\n",
       "          [[186., 190., 148.,  ...,   9.,  16.,  17.],\n",
       "           [184., 192., 158.,  ...,  11.,  13.,  12.],\n",
       "           [181., 175., 155.,  ...,  11.,  13.,  13.],\n",
       "           ...,\n",
       "           [123., 112., 121.,  ...,   8.,  11.,   6.],\n",
       "           [127., 110., 111.,  ...,  13.,   3.,  12.],\n",
       "           [123., 108.,  82.,  ...,  10.,  15.,   4.]],\n",
       "\n",
       "          [[186., 190., 148.,  ...,   9.,  16.,  17.],\n",
       "           [184., 192., 158.,  ...,  11.,  13.,  12.],\n",
       "           [181., 175., 155.,  ...,  10.,  13.,  13.],\n",
       "           ...,\n",
       "           [125., 112., 122.,  ...,   9.,  11.,   6.],\n",
       "           [122., 112., 112.,  ...,  12.,   3.,  12.],\n",
       "           [123., 110.,  82.,  ...,  15.,  14.,   5.]]]],\n",
       "\n",
       "\n",
       "\n",
       "        [[[[118., 107., 152.,  ..., 107.,  56.,  54.],\n",
       "           [116., 130., 149.,  ..., 121.,  95.,  63.],\n",
       "           [120., 128., 133.,  ..., 124., 107.,  75.],\n",
       "           ...,\n",
       "           [102.,  98.,  99.,  ...,  97.,  95., 113.],\n",
       "           [ 98.,  97.,  98.,  ..., 100., 120.,  64.],\n",
       "           [100., 101.,  92.,  ...,  80., 116., 114.]],\n",
       "\n",
       "          [[118., 107., 152.,  ..., 107.,  56.,  60.],\n",
       "           [118., 130., 149.,  ..., 121.,  95.,  69.],\n",
       "           [120., 128., 133.,  ..., 123., 107.,  74.],\n",
       "           ...,\n",
       "           [102.,  98., 101.,  ..., 101.,  95., 114.],\n",
       "           [ 98.,  96., 100.,  ...,  95., 122.,  64.],\n",
       "           [101., 100.,  92.,  ...,  78., 114., 117.]],\n",
       "\n",
       "          [[132., 126., 141.,  ..., 111.,  78.,  49.],\n",
       "           [ 98., 141., 152.,  ..., 121.,  90.,  70.],\n",
       "           [139., 123., 128.,  ..., 123., 107.,  74.],\n",
       "           ...,\n",
       "           [104., 101., 101.,  ..., 108.,  97., 118.],\n",
       "           [ 99., 100.,  99.,  ...,  96., 119.,  65.],\n",
       "           [100., 101.,  92.,  ..., 101., 113., 115.]],\n",
       "\n",
       "          ...,\n",
       "\n",
       "          [[128., 126., 145.,  ..., 111.,  67.,  52.],\n",
       "           [108., 142., 150.,  ..., 109.,  95.,  66.],\n",
       "           [138., 123., 129.,  ..., 125., 108.,  77.],\n",
       "           ...,\n",
       "           [101.,  99.,  98.,  ..., 104.,  94., 117.],\n",
       "           [100., 100., 101.,  ...,  92., 122.,  65.],\n",
       "           [104.,  96.,  93.,  ...,  92., 120., 112.]],\n",
       "\n",
       "          [[128., 126., 143.,  ..., 111.,  67.,  54.],\n",
       "           [105., 141., 149.,  ..., 111.,  93.,  69.],\n",
       "           [138., 123., 129.,  ..., 125., 106.,  77.],\n",
       "           ...,\n",
       "           [ 99.,  98.,  96.,  ..., 103.,  95., 117.],\n",
       "           [100., 100., 102.,  ...,  93., 120.,  65.],\n",
       "           [101.,  91.,  94.,  ...,  84., 120., 111.]],\n",
       "\n",
       "          [[131., 128., 143.,  ..., 111.,  67.,  55.],\n",
       "           [108., 137., 151.,  ..., 109.,  93.,  67.],\n",
       "           [139., 122., 131.,  ..., 126., 103.,  77.],\n",
       "           ...,\n",
       "           [100.,  99.,  97.,  ..., 105.,  94., 118.],\n",
       "           [101.,  99.,  99.,  ...,  94., 124.,  68.],\n",
       "           [103.,  95.,  94.,  ...,  84., 123., 111.]]],\n",
       "\n",
       "\n",
       "         [[[111., 105., 150.,  ...,  97.,  42.,  35.],\n",
       "           [112., 125., 150.,  ..., 110.,  82.,  43.],\n",
       "           [119., 127., 133.,  ..., 116.,  95.,  60.],\n",
       "           ...,\n",
       "           [102.,  96., 102.,  ..., 113., 101., 107.],\n",
       "           [100., 101., 101.,  ..., 105., 126.,  61.],\n",
       "           [105., 101., 100.,  ...,  86., 119., 106.]],\n",
       "\n",
       "          [[110., 105., 150.,  ...,  97.,  42.,  35.],\n",
       "           [113., 125., 150.,  ..., 110.,  82.,  43.],\n",
       "           [119., 127., 133.,  ..., 115.,  95.,  60.],\n",
       "           ...,\n",
       "           [102.,  96., 102.,  ..., 115., 102., 108.],\n",
       "           [100., 100., 100.,  ..., 106., 129.,  64.],\n",
       "           [105., 100.,  99.,  ...,  85., 117., 108.]],\n",
       "\n",
       "          [[121., 116., 145.,  ..., 102.,  67.,  34.],\n",
       "           [ 98., 131., 151.,  ..., 110.,  79.,  45.],\n",
       "           [133., 118., 122.,  ..., 116.,  97.,  58.],\n",
       "           ...,\n",
       "           [101.,  99., 101.,  ..., 115., 103., 110.],\n",
       "           [100.,  99.,  99.,  ..., 109., 126.,  62.],\n",
       "           [105., 101.,  99.,  ..., 110., 113., 109.]],\n",
       "\n",
       "          ...,\n",
       "\n",
       "          [[120., 117., 145.,  ..., 101.,  53.,  35.],\n",
       "           [105., 132., 150.,  ..., 103.,  84.,  45.],\n",
       "           [135., 117., 123.,  ..., 118.,  96.,  61.],\n",
       "           ...,\n",
       "           [101.,  98., 100.,  ..., 112., 101., 112.],\n",
       "           [100., 101., 102.,  ..., 101., 123.,  62.],\n",
       "           [105., 101.,  99.,  ..., 100., 118., 110.]],\n",
       "\n",
       "          [[120., 115., 143.,  ..., 101.,  53.,  34.],\n",
       "           [105., 131., 149.,  ..., 105.,  82.,  45.],\n",
       "           [135., 117., 123.,  ..., 118.,  95.,  61.],\n",
       "           ...,\n",
       "           [103.,  98., 100.,  ..., 112., 101., 111.],\n",
       "           [ 99., 101., 102.,  ..., 103., 124.,  62.],\n",
       "           [106., 102., 100.,  ...,  93., 118., 109.]],\n",
       "\n",
       "          [[122., 115., 143.,  ..., 101.,  53.,  36.],\n",
       "           [107., 128., 148.,  ..., 103.,  82.,  46.],\n",
       "           [133., 115., 124.,  ..., 119.,  96.,  61.],\n",
       "           ...,\n",
       "           [101.,  99.,  99.,  ..., 113.,  98., 112.],\n",
       "           [ 99.,  99., 100.,  ..., 102., 125.,  62.],\n",
       "           [104., 101., 100.,  ...,  92., 117., 110.]]],\n",
       "\n",
       "\n",
       "         [[[101., 101., 142.,  ...,  97.,  45.,  30.],\n",
       "           [ 93., 117., 140.,  ..., 106.,  80.,  42.],\n",
       "           [108., 117., 121.,  ..., 116.,  91.,  61.],\n",
       "           ...,\n",
       "           [ 86.,  79.,  84.,  ..., 103.,  88., 103.],\n",
       "           [ 88.,  82.,  86.,  ..., 100., 115.,  56.],\n",
       "           [ 90.,  87.,  83.,  ...,  79., 103., 102.]],\n",
       "\n",
       "          [[104., 101., 142.,  ...,  97.,  45.,  31.],\n",
       "           [ 98., 117., 140.,  ..., 106.,  80.,  43.],\n",
       "           [108., 117., 121.,  ..., 115.,  91.,  61.],\n",
       "           ...,\n",
       "           [ 86.,  79.,  85.,  ..., 108.,  90., 103.],\n",
       "           [ 88.,  81.,  86.,  ...,  98., 116.,  58.],\n",
       "           [ 92.,  84.,  84.,  ...,  77., 102., 101.]],\n",
       "\n",
       "          [[122., 116., 140.,  ...,  99.,  69.,  35.],\n",
       "           [ 82., 124., 147.,  ..., 106.,  77.,  49.],\n",
       "           [120., 109., 115.,  ..., 113.,  90.,  59.],\n",
       "           ...,\n",
       "           [ 89.,  84.,  89.,  ..., 112.,  91., 106.],\n",
       "           [ 84.,  85.,  83.,  ...,  96., 113.,  57.],\n",
       "           [ 93.,  82.,  84.,  ..., 104., 101.,  99.]],\n",
       "\n",
       "          ...,\n",
       "\n",
       "          [[121., 117., 145.,  ..., 101.,  55.,  32.],\n",
       "           [ 90., 125., 144.,  ...,  92.,  82.,  44.],\n",
       "           [120., 110., 117.,  ..., 115.,  90.,  62.],\n",
       "           ...,\n",
       "           [ 86.,  83.,  91.,  ..., 106.,  87., 104.],\n",
       "           [ 86.,  85.,  92.,  ...,  92., 111.,  54.],\n",
       "           [ 93.,  86.,  82.,  ...,  89., 107., 106.]],\n",
       "\n",
       "          [[121., 115., 143.,  ..., 101.,  55.,  31.],\n",
       "           [ 89., 124., 143.,  ...,  95.,  80.,  45.],\n",
       "           [119., 110., 117.,  ..., 115.,  88.,  62.],\n",
       "           ...,\n",
       "           [ 87.,  84.,  90.,  ..., 104.,  89., 103.],\n",
       "           [ 85.,  85.,  90.,  ...,  94., 112.,  54.],\n",
       "           [ 94.,  85.,  82.,  ...,  76., 107., 103.]],\n",
       "\n",
       "          [[124., 117., 143.,  ...,  99.,  55.,  33.],\n",
       "           [ 93., 124., 143.,  ...,  92.,  78.,  45.],\n",
       "           [119., 108., 117.,  ..., 116.,  88.,  62.],\n",
       "           ...,\n",
       "           [ 85.,  82.,  90.,  ..., 105.,  87., 104.],\n",
       "           [ 88.,  85.,  89.,  ...,  93., 115.,  57.],\n",
       "           [ 95.,  84.,  83.,  ...,  79., 105., 102.]]]],\n",
       "\n",
       "\n",
       "\n",
       "        [[[[147., 151., 152.,  ..., 130., 125., 120.],\n",
       "           [152., 146., 152.,  ..., 130., 133., 124.],\n",
       "           [148., 141., 151.,  ..., 136., 128., 129.],\n",
       "           ...,\n",
       "           [ 98., 114., 124.,  ...,  72.,  43.,  27.],\n",
       "           [103., 116., 115.,  ...,  73.,  36.,  27.],\n",
       "           [ 96., 114., 119.,  ...,  63.,  28.,  24.]],\n",
       "\n",
       "          [[147., 151., 152.,  ..., 130., 125., 121.],\n",
       "           [152., 146., 152.,  ..., 130., 133., 127.],\n",
       "           [148., 141., 151.,  ..., 134., 128., 129.],\n",
       "           ...,\n",
       "           [ 98., 112., 121.,  ...,  73.,  44.,  27.],\n",
       "           [103., 117., 115.,  ...,  72.,  34.,  26.],\n",
       "           [ 94., 113., 118.,  ...,  65.,  28.,  24.]],\n",
       "\n",
       "          [[147., 151., 152.,  ..., 128., 125., 121.],\n",
       "           [152., 146., 152.,  ..., 130., 130., 127.],\n",
       "           [148., 141., 151.,  ..., 133., 127., 130.],\n",
       "           ...,\n",
       "           [ 99., 116., 124.,  ...,  75.,  46.,  25.],\n",
       "           [108., 118., 115.,  ...,  74.,  35.,  24.],\n",
       "           [ 97., 113., 119.,  ...,  66.,  28.,  24.]],\n",
       "\n",
       "          ...,\n",
       "\n",
       "          [[148., 151., 152.,  ..., 130., 125., 119.],\n",
       "           [152., 146., 152.,  ..., 130., 126., 128.],\n",
       "           [148., 141., 151.,  ..., 132., 127., 133.],\n",
       "           ...,\n",
       "           [ 98., 112., 117.,  ...,  71.,  43.,  25.],\n",
       "           [101., 111., 116.,  ...,  70.,  37.,  27.],\n",
       "           [ 97., 113., 116.,  ...,  67.,  28.,  21.]],\n",
       "\n",
       "          [[148., 151., 150.,  ..., 131., 125., 121.],\n",
       "           [152., 146., 153.,  ..., 130., 126., 125.],\n",
       "           [148., 141., 151.,  ..., 135., 127., 133.],\n",
       "           ...,\n",
       "           [100., 114., 120.,  ...,  71.,  44.,  25.],\n",
       "           [103., 113., 117.,  ...,  70.,  36.,  27.],\n",
       "           [ 99., 112., 118.,  ...,  68.,  27.,  21.]],\n",
       "\n",
       "          [[148., 151., 150.,  ..., 126., 126., 122.],\n",
       "           [152., 146., 153.,  ..., 130., 126., 127.],\n",
       "           [148., 141., 151.,  ..., 135., 127., 133.],\n",
       "           ...,\n",
       "           [100., 113., 120.,  ...,  71.,  44.,  25.],\n",
       "           [102., 112., 117.,  ...,  70.,  36.,  27.],\n",
       "           [ 99., 113., 118.,  ...,  68.,  27.,  21.]]],\n",
       "\n",
       "\n",
       "         [[[152., 155., 157.,  ..., 147., 140., 116.],\n",
       "           [158., 150., 158.,  ..., 147., 142., 127.],\n",
       "           [153., 145., 155.,  ..., 147., 139., 131.],\n",
       "           ...,\n",
       "           [ 96., 113., 118.,  ...,  62.,  34.,  24.],\n",
       "           [ 99., 117., 115.,  ...,  64.,  28.,  22.],\n",
       "           [ 96., 111., 118.,  ...,  55.,  25.,  17.]],\n",
       "\n",
       "          [[153., 155., 157.,  ..., 147., 140., 116.],\n",
       "           [158., 150., 158.,  ..., 148., 142., 127.],\n",
       "           [153., 145., 155.,  ..., 146., 139., 131.],\n",
       "           ...,\n",
       "           [ 96., 112., 118.,  ...,  63.,  34.,  24.],\n",
       "           [100., 116., 115.,  ...,  62.,  26.,  21.],\n",
       "           [ 97., 109., 117.,  ...,  55.,  25.,  17.]],\n",
       "\n",
       "          [[153., 155., 157.,  ..., 149., 139., 116.],\n",
       "           [158., 150., 158.,  ..., 147., 138., 127.],\n",
       "           [153., 145., 155.,  ..., 145., 139., 131.],\n",
       "           ...,\n",
       "           [ 96., 113., 119.,  ...,  65.,  35.,  24.],\n",
       "           [103., 118., 115.,  ...,  63.,  26.,  21.],\n",
       "           [ 97., 110., 118.,  ...,  55.,  25.,  17.]],\n",
       "\n",
       "          ...,\n",
       "\n",
       "          [[151., 155., 157.,  ..., 148., 140., 119.],\n",
       "           [157., 150., 158.,  ..., 148., 138., 128.],\n",
       "           [153., 145., 155.,  ..., 147., 139., 134.],\n",
       "           ...,\n",
       "           [ 98., 114., 117.,  ...,  59.,  36.,  24.],\n",
       "           [102., 111., 117.,  ...,  60.,  30.,  23.],\n",
       "           [ 99., 108., 118.,  ...,  56.,  24.,  17.]],\n",
       "\n",
       "          [[151., 155., 157.,  ..., 147., 140., 119.],\n",
       "           [157., 150., 159.,  ..., 147., 138., 128.],\n",
       "           [153., 145., 155.,  ..., 147., 139., 134.],\n",
       "           ...,\n",
       "           [ 97., 114., 118.,  ...,  60.,  36.,  24.],\n",
       "           [102., 113., 117.,  ...,  59.,  29.,  23.],\n",
       "           [ 98., 109., 119.,  ...,  53.,  22.,  17.]],\n",
       "\n",
       "          [[151., 155., 157.,  ..., 150., 140., 119.],\n",
       "           [157., 150., 159.,  ..., 147., 139., 126.],\n",
       "           [153., 145., 155.,  ..., 147., 139., 133.],\n",
       "           ...,\n",
       "           [ 97., 114., 117.,  ...,  60.,  36.,  24.],\n",
       "           [101., 113., 116.,  ...,  59.,  29.,  23.],\n",
       "           [ 98., 110., 119.,  ...,  53.,  22.,  17.]]],\n",
       "\n",
       "\n",
       "         [[[137., 143., 142.,  ..., 143., 137., 107.],\n",
       "           [141., 138., 142.,  ..., 143., 139., 112.],\n",
       "           [136., 133., 143.,  ..., 143., 136., 125.],\n",
       "           ...,\n",
       "           [ 78.,  93.,  98.,  ...,  51.,  31.,  25.],\n",
       "           [ 88.,  96.,  99.,  ...,  55.,  25.,  21.],\n",
       "           [ 82.,  99.,  98.,  ...,  39.,  19.,  14.]],\n",
       "\n",
       "          [[136., 143., 142.,  ..., 143., 137., 107.],\n",
       "           [139., 138., 142.,  ..., 142., 139., 115.],\n",
       "           [136., 133., 143.,  ..., 146., 136., 125.],\n",
       "           ...,\n",
       "           [ 77.,  92.,  97.,  ...,  52.,  32.,  24.],\n",
       "           [ 86.,  95.,  99.,  ...,  55.,  23.,  18.],\n",
       "           [ 81.,  98.,  95.,  ...,  39.,  19.,  14.]],\n",
       "\n",
       "          [[136., 143., 142.,  ..., 141., 136., 107.],\n",
       "           [140., 138., 142.,  ..., 144., 137., 115.],\n",
       "           [136., 133., 143.,  ..., 145., 137., 128.],\n",
       "           ...,\n",
       "           [ 77.,  93.,  98.,  ...,  56.,  31.,  24.],\n",
       "           [ 88.,  94., 100.,  ...,  55.,  23.,  17.],\n",
       "           [ 84.,  97.,  97.,  ...,  41.,  19.,  14.]],\n",
       "\n",
       "          ...,\n",
       "\n",
       "          [[142., 143., 142.,  ..., 141., 136., 105.],\n",
       "           [144., 138., 142.,  ..., 141., 132., 116.],\n",
       "           [136., 133., 143.,  ..., 144., 133., 127.],\n",
       "           ...,\n",
       "           [ 77.,  95.,  98.,  ...,  56.,  27.,  23.],\n",
       "           [ 82.,  97., 102.,  ...,  53.,  21.,  18.],\n",
       "           [ 80.,  93.,  98.,  ...,  42.,  19.,  16.]],\n",
       "\n",
       "          [[142., 143., 144.,  ..., 143., 136., 108.],\n",
       "           [144., 138., 142.,  ..., 143., 132., 113.],\n",
       "           [136., 133., 143.,  ..., 144., 134., 125.],\n",
       "           ...,\n",
       "           [ 78.,  96.,  99.,  ...,  55.,  28.,  23.],\n",
       "           [ 82.,  97., 100.,  ...,  55.,  22.,  18.],\n",
       "           [ 79.,  94.,  99.,  ...,  46.,  19.,  16.]],\n",
       "\n",
       "          [[142., 143., 144.,  ..., 140., 136., 105.],\n",
       "           [144., 138., 142.,  ..., 144., 131., 116.],\n",
       "           [136., 133., 143.,  ..., 144., 134., 126.],\n",
       "           ...,\n",
       "           [ 78.,  95.,  99.,  ...,  55.,  28.,  23.],\n",
       "           [ 81.,  97., 102.,  ...,  55.,  22.,  18.],\n",
       "           [ 79.,  94.,  99.,  ...,  46.,  19.,  16.]]]]])"
      ]
     },
     "execution_count": 52,
     "metadata": {},
     "output_type": "execute_result"
    }
   ],
   "source": [
    "Variable(torch.FloatTensor(train_data))"
   ]
  },
  {
   "cell_type": "code",
   "execution_count": null,
   "metadata": {},
   "outputs": [],
   "source": []
  }
 ],
 "metadata": {
  "kernelspec": {
   "display_name": "Python 3",
   "language": "python",
   "name": "python3"
  },
  "language_info": {
   "codemirror_mode": {
    "name": "ipython",
    "version": 3
   },
   "file_extension": ".py",
   "mimetype": "text/x-python",
   "name": "python",
   "nbconvert_exporter": "python",
   "pygments_lexer": "ipython3",
   "version": "3.7.6"
  }
 },
 "nbformat": 4,
 "nbformat_minor": 4
}
