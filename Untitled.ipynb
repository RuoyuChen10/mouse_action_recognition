{
 "cells": [
  {
   "cell_type": "code",
   "execution_count": 1,
   "metadata": {},
   "outputs": [],
   "source": [
    "import numpy as np\n",
    "import cv2\n",
    "import os\n",
    "import random\n",
    "import torch.nn as nn"
   ]
  },
  {
   "cell_type": "code",
   "execution_count": 2,
   "metadata": {},
   "outputs": [],
   "source": [
    "def read_folder_datasets(rootfile,num):\n",
    "    '''\n",
    "    rootfile is the path\n",
    "    '''\n",
    "    image_serial = []\n",
    "    files_dir = os.listdir(rootfile)\n",
    "    # 检查文件夹下数量是否满足输入的要求\n",
    "    if(len(files_dir)>=num):\n",
    "        for img_name in files_dir:\n",
    "            img_dir = rootfile+'/'+ img_name\n",
    "            img = cv2.imread(img_dir)\n",
    "            img = cv2.resize(112,112)\n",
    "            image_serial.append(img)\n",
    "            if len(image_serial)==num:\n",
    "                break\n",
    "        return image_serial\n",
    "    else:\n",
    "        return None"
   ]
  },
  {
   "cell_type": "code",
   "execution_count": 3,
   "metadata": {},
   "outputs": [],
   "source": [
    "def sort_file(file_list):\n",
    "    '''\n",
    "    文本排序\n",
    "    '''\n",
    "    file_list.sort(key=lambda x: int(x.split('.')[0]))\n",
    "    return file_list"
   ]
  },
  {
   "cell_type": "code",
   "execution_count": 4,
   "metadata": {},
   "outputs": [],
   "source": [
    "def read_sort_file(file_dir):\n",
    "    '''\n",
    "    文本排序\n",
    "    '''\n",
    "    try:\n",
    "        file_list = os.listdir(file_dir)\n",
    "        file_list.sort(key=lambda x: int(x.split('.')[0]))\n",
    "        return file_list\n",
    "    except:\n",
    "        return None"
   ]
  },
  {
   "cell_type": "code",
   "execution_count": 35,
   "metadata": {},
   "outputs": [],
   "source": [
    "rootfile = './datasets'"
   ]
  },
  {
   "cell_type": "code",
   "execution_count": 36,
   "metadata": {},
   "outputs": [],
   "source": [
    "files_dir = read_sort_file(rootfile)"
   ]
  },
  {
   "cell_type": "code",
   "execution_count": 37,
   "metadata": {},
   "outputs": [
    {
     "data": {
      "text/plain": [
       "['1', '3', '4', '5', '6', '7', '8', '9', '11', '12', '13', '14', '15']"
      ]
     },
     "execution_count": 37,
     "metadata": {},
     "output_type": "execute_result"
    }
   ],
   "source": [
    "files_dir"
   ]
  },
  {
   "cell_type": "code",
   "execution_count": 47,
   "metadata": {},
   "outputs": [],
   "source": [
    "with open(\"datasets.txt\") as file:\n",
    "    a = file.readline()"
   ]
  },
  {
   "cell_type": "code",
   "execution_count": 48,
   "metadata": {},
   "outputs": [
    {
     "data": {
      "text/plain": [
       "'./datasets/1/1/347.jpg ./datasets/1/1/348.jpg ./datasets/1/1/349.jpg ./datasets/1/1/350.jpg ./datasets/1/1/351.jpg ./datasets/1/1/352.jpg ./datasets/1/1/353.jpg ./datasets/1/1/354.jpg ./datasets/1/1/355.jpg ./datasets/1/1/356.jpg  1\\n'"
      ]
     },
     "execution_count": 48,
     "metadata": {},
     "output_type": "execute_result"
    }
   ],
   "source": [
    "a"
   ]
  },
  {
   "cell_type": "code",
   "execution_count": 51,
   "metadata": {},
   "outputs": [],
   "source": [
    "list = []\n",
    "for line in open(\"datasets.txt\"):   \n",
    "    list.append(line)"
   ]
  },
  {
   "cell_type": "code",
   "execution_count": 53,
   "metadata": {},
   "outputs": [
    {
     "data": {
      "text/plain": [
       "'./datasets/1/2/500.jpg ./datasets/1/2/501.jpg ./datasets/1/2/502.jpg ./datasets/1/2/503.jpg ./datasets/1/2/504.jpg ./datasets/1/2/505.jpg ./datasets/1/2/506.jpg ./datasets/1/2/507.jpg ./datasets/1/2/508.jpg ./datasets/1/2/509.jpg  1\\n'"
      ]
     },
     "execution_count": 53,
     "metadata": {},
     "output_type": "execute_result"
    }
   ],
   "source": [
    "list[1]"
   ]
  },
  {
   "cell_type": "code",
   "execution_count": 54,
   "metadata": {},
   "outputs": [
    {
     "data": {
      "text/plain": [
       "41"
      ]
     },
     "execution_count": 54,
     "metadata": {},
     "output_type": "execute_result"
    }
   ],
   "source": [
    "len(list)"
   ]
  },
  {
   "cell_type": "code",
   "execution_count": 57,
   "metadata": {},
   "outputs": [],
   "source": [
    "random.shuffle(list)"
   ]
  },
  {
   "cell_type": "code",
   "execution_count": 58,
   "metadata": {},
   "outputs": [
    {
     "data": {
      "text/plain": [
       "['./datasets/5/10/36921.jpg ./datasets/5/10/36922.jpg ./datasets/5/10/36923.jpg ./datasets/5/10/36924.jpg ./datasets/5/10/36925.jpg ./datasets/5/10/36926.jpg ./datasets/5/10/36927.jpg ./datasets/5/10/36928.jpg ./datasets/5/10/36929.jpg ./datasets/5/10/36930.jpg  5\\n',\n",
       " './datasets/8/10/40740.jpg ./datasets/8/10/40741.jpg ./datasets/8/10/40742.jpg ./datasets/8/10/40743.jpg ./datasets/8/10/40744.jpg ./datasets/8/10/40745.jpg ./datasets/8/10/40746.jpg ./datasets/8/10/40747.jpg ./datasets/8/10/40748.jpg ./datasets/8/10/40749.jpg  8\\n',\n",
       " './datasets/5/8/22020.jpg ./datasets/5/8/22021.jpg ./datasets/5/8/22022.jpg ./datasets/5/8/22023.jpg ./datasets/5/8/22024.jpg ./datasets/5/8/22025.jpg ./datasets/5/8/22026.jpg ./datasets/5/8/22027.jpg ./datasets/5/8/22028.jpg ./datasets/5/8/22029.jpg  5\\n',\n",
       " './datasets/6/5/1030.jpg ./datasets/6/5/1031.jpg ./datasets/6/5/1032.jpg ./datasets/6/5/1033.jpg ./datasets/6/5/1034.jpg ./datasets/6/5/1035.jpg ./datasets/6/5/1036.jpg ./datasets/6/5/1037.jpg ./datasets/6/5/1038.jpg ./datasets/6/5/1039.jpg  6\\n',\n",
       " './datasets/6/1/57.jpg ./datasets/6/1/58.jpg ./datasets/6/1/59.jpg ./datasets/6/1/60.jpg ./datasets/6/1/61.jpg ./datasets/6/1/62.jpg ./datasets/6/1/63.jpg ./datasets/6/1/64.jpg ./datasets/6/1/65.jpg ./datasets/6/1/66.jpg  6\\n',\n",
       " './datasets/5/5/16831.jpg ./datasets/5/5/16832.jpg ./datasets/5/5/16833.jpg ./datasets/5/5/16834.jpg ./datasets/5/5/16835.jpg ./datasets/5/5/16836.jpg ./datasets/5/5/16837.jpg ./datasets/5/5/16838.jpg ./datasets/5/5/16839.jpg ./datasets/5/5/16840.jpg  5\\n',\n",
       " './datasets/3/6/7748.jpg ./datasets/3/6/7749.jpg ./datasets/3/6/7750.jpg ./datasets/3/6/7751.jpg ./datasets/3/6/7752.jpg ./datasets/3/6/7753.jpg ./datasets/3/6/7754.jpg ./datasets/3/6/7755.jpg ./datasets/3/6/7756.jpg ./datasets/3/6/7757.jpg  3\\n',\n",
       " './datasets/6/9/3302.jpg ./datasets/6/9/3303.jpg ./datasets/6/9/3304.jpg ./datasets/6/9/3305.jpg ./datasets/6/9/3306.jpg ./datasets/6/9/3307.jpg ./datasets/6/9/3308.jpg ./datasets/6/9/3309.jpg ./datasets/6/9/3310.jpg ./datasets/6/9/3311.jpg  6\\n',\n",
       " './datasets/1/2/500.jpg ./datasets/1/2/501.jpg ./datasets/1/2/502.jpg ./datasets/1/2/503.jpg ./datasets/1/2/504.jpg ./datasets/1/2/505.jpg ./datasets/1/2/506.jpg ./datasets/1/2/507.jpg ./datasets/1/2/508.jpg ./datasets/1/2/509.jpg  1\\n',\n",
       " './datasets/4/3/175.jpg ./datasets/4/3/176.jpg ./datasets/4/3/177.jpg ./datasets/4/3/178.jpg ./datasets/4/3/179.jpg ./datasets/4/3/180.jpg ./datasets/4/3/181.jpg ./datasets/4/3/182.jpg ./datasets/4/3/183.jpg ./datasets/4/3/184.jpg  4\\n',\n",
       " './datasets/4/1/178.jpg ./datasets/4/1/179.jpg ./datasets/4/1/180.jpg ./datasets/4/1/181.jpg ./datasets/4/1/182.jpg ./datasets/4/1/183.jpg ./datasets/4/1/184.jpg ./datasets/4/1/185.jpg ./datasets/4/1/186.jpg ./datasets/4/1/187.jpg  4\\n',\n",
       " './datasets/9/2/240.jpg ./datasets/9/2/241.jpg ./datasets/9/2/242.jpg ./datasets/9/2/243.jpg ./datasets/9/2/244.jpg ./datasets/9/2/245.jpg ./datasets/9/2/246.jpg ./datasets/9/2/247.jpg ./datasets/9/2/248.jpg ./datasets/9/2/249.jpg  9\\n',\n",
       " './datasets/5/1/3176.jpg ./datasets/5/1/3177.jpg ./datasets/5/1/3178.jpg ./datasets/5/1/3179.jpg ./datasets/5/1/3180.jpg ./datasets/5/1/3181.jpg ./datasets/5/1/3182.jpg ./datasets/5/1/3183.jpg ./datasets/5/1/3184.jpg ./datasets/5/1/3185.jpg  5\\n',\n",
       " './datasets/7/1/457.jpg ./datasets/7/1/458.jpg ./datasets/7/1/459.jpg ./datasets/7/1/460.jpg ./datasets/7/1/461.jpg ./datasets/7/1/462.jpg ./datasets/7/1/463.jpg ./datasets/7/1/464.jpg ./datasets/7/1/465.jpg ./datasets/7/1/466.jpg  7\\n',\n",
       " './datasets/6/4/796.jpg ./datasets/6/4/797.jpg ./datasets/6/4/798.jpg ./datasets/6/4/799.jpg ./datasets/6/4/800.jpg ./datasets/6/4/801.jpg ./datasets/6/4/802.jpg ./datasets/6/4/803.jpg ./datasets/6/4/804.jpg ./datasets/6/4/805.jpg  6\\n',\n",
       " './datasets/1/3/691.jpg ./datasets/1/3/692.jpg ./datasets/1/3/693.jpg ./datasets/1/3/694.jpg ./datasets/1/3/695.jpg ./datasets/1/3/696.jpg ./datasets/1/3/697.jpg ./datasets/1/3/698.jpg ./datasets/1/3/699.jpg ./datasets/1/3/700.jpg  1\\n',\n",
       " './datasets/3/2/7748.jpg ./datasets/3/2/7749.jpg ./datasets/3/2/7750.jpg ./datasets/3/2/7751.jpg ./datasets/3/2/7752.jpg ./datasets/3/2/7753.jpg ./datasets/3/2/7754.jpg ./datasets/3/2/7755.jpg ./datasets/3/2/7756.jpg ./datasets/3/2/7757.jpg  3\\n',\n",
       " './datasets/3/5/1266.jpg ./datasets/3/5/1267.jpg ./datasets/3/5/1268.jpg ./datasets/3/5/1269.jpg ./datasets/3/5/1270.jpg ./datasets/3/5/1271.jpg ./datasets/3/5/1272.jpg ./datasets/3/5/1273.jpg ./datasets/3/5/1274.jpg ./datasets/3/5/1275.jpg  3\\n',\n",
       " './datasets/6/6/2552.jpg ./datasets/6/6/2553.jpg ./datasets/6/6/2554.jpg ./datasets/6/6/2555.jpg ./datasets/6/6/2556.jpg ./datasets/6/6/2557.jpg ./datasets/6/6/2558.jpg ./datasets/6/6/2559.jpg ./datasets/6/6/2560.jpg ./datasets/6/6/2561.jpg  6\\n',\n",
       " './datasets/5/3/15702.jpg ./datasets/5/3/15703.jpg ./datasets/5/3/15704.jpg ./datasets/5/3/15705.jpg ./datasets/5/3/15706.jpg ./datasets/5/3/15707.jpg ./datasets/5/3/15708.jpg ./datasets/5/3/15709.jpg ./datasets/5/3/15710.jpg ./datasets/5/3/15711.jpg  5\\n',\n",
       " './datasets/3/7/8064.jpg ./datasets/3/7/8065.jpg ./datasets/3/7/8066.jpg ./datasets/3/7/8067.jpg ./datasets/3/7/8068.jpg ./datasets/3/7/8069.jpg ./datasets/3/7/8070.jpg ./datasets/3/7/8071.jpg ./datasets/3/7/8072.jpg ./datasets/3/7/8073.jpg  3\\n',\n",
       " './datasets/7/2/646.jpg ./datasets/7/2/647.jpg ./datasets/7/2/648.jpg ./datasets/7/2/649.jpg ./datasets/7/2/650.jpg ./datasets/7/2/651.jpg ./datasets/7/2/652.jpg ./datasets/7/2/653.jpg ./datasets/7/2/654.jpg ./datasets/7/2/655.jpg  7\\n',\n",
       " './datasets/3/10/32625.jpg ./datasets/3/10/32626.jpg ./datasets/3/10/32627.jpg ./datasets/3/10/32628.jpg ./datasets/3/10/32629.jpg ./datasets/3/10/32630.jpg ./datasets/3/10/32631.jpg ./datasets/3/10/32632.jpg ./datasets/3/10/32633.jpg ./datasets/3/10/32634.jpg  3\\n',\n",
       " './datasets/9/3/557.jpg ./datasets/9/3/558.jpg ./datasets/9/3/559.jpg ./datasets/9/3/560.jpg ./datasets/9/3/561.jpg ./datasets/9/3/562.jpg ./datasets/9/3/563.jpg ./datasets/9/3/564.jpg ./datasets/9/3/565.jpg ./datasets/9/3/566.jpg  9\\n',\n",
       " './datasets/8/9/36361.jpg ./datasets/8/9/36362.jpg ./datasets/8/9/36363.jpg ./datasets/8/9/36364.jpg ./datasets/8/9/36365.jpg ./datasets/8/9/36366.jpg ./datasets/8/9/36367.jpg ./datasets/8/9/36368.jpg ./datasets/8/9/36369.jpg ./datasets/8/9/36370.jpg  8\\n',\n",
       " './datasets/4/4/2983.jpg ./datasets/4/4/2984.jpg ./datasets/4/4/2985.jpg ./datasets/4/4/2986.jpg ./datasets/4/4/2987.jpg ./datasets/4/4/2988.jpg ./datasets/4/4/2989.jpg ./datasets/4/4/2990.jpg ./datasets/4/4/2991.jpg ./datasets/4/4/2992.jpg  4\\n',\n",
       " './datasets/4/6/1100.jpg ./datasets/4/6/1101.jpg ./datasets/4/6/1102.jpg ./datasets/4/6/1103.jpg ./datasets/4/6/1104.jpg ./datasets/4/6/1105.jpg ./datasets/4/6/1106.jpg ./datasets/4/6/1107.jpg ./datasets/4/6/1108.jpg ./datasets/4/6/1109.jpg  4\\n',\n",
       " './datasets/9/1/119.jpg ./datasets/9/1/120.jpg ./datasets/9/1/121.jpg ./datasets/9/1/122.jpg ./datasets/9/1/123.jpg ./datasets/9/1/124.jpg ./datasets/9/1/125.jpg ./datasets/9/1/126.jpg ./datasets/9/1/127.jpg ./datasets/9/1/128.jpg  9\\n',\n",
       " './datasets/3/8/8064.jpg ./datasets/3/8/8065.jpg ./datasets/3/8/8066.jpg ./datasets/3/8/8067.jpg ./datasets/3/8/8068.jpg ./datasets/3/8/8069.jpg ./datasets/3/8/8070.jpg ./datasets/3/8/8071.jpg ./datasets/3/8/8072.jpg ./datasets/3/8/8073.jpg  3\\n',\n",
       " './datasets/3/1/1265.jpg ./datasets/3/1/1266.jpg ./datasets/3/1/1267.jpg ./datasets/3/1/1268.jpg ./datasets/3/1/1269.jpg ./datasets/3/1/1270.jpg ./datasets/3/1/1271.jpg ./datasets/3/1/1272.jpg ./datasets/3/1/1273.jpg ./datasets/3/1/1274.jpg  3\\n',\n",
       " './datasets/1/5/3702.jpg ./datasets/1/5/3703.jpg ./datasets/1/5/3704.jpg ./datasets/1/5/3705.jpg ./datasets/1/5/3706.jpg ./datasets/1/5/3707.jpg ./datasets/1/5/3708.jpg ./datasets/1/5/3709.jpg ./datasets/1/5/3710.jpg ./datasets/1/5/3711.jpg  1\\n',\n",
       " './datasets/1/1/347.jpg ./datasets/1/1/348.jpg ./datasets/1/1/349.jpg ./datasets/1/1/350.jpg ./datasets/1/1/351.jpg ./datasets/1/1/352.jpg ./datasets/1/1/353.jpg ./datasets/1/1/354.jpg ./datasets/1/1/355.jpg ./datasets/1/1/356.jpg  1\\n',\n",
       " './datasets/6/3/760.jpg ./datasets/6/3/761.jpg ./datasets/6/3/762.jpg ./datasets/6/3/763.jpg ./datasets/6/3/764.jpg ./datasets/6/3/765.jpg ./datasets/6/3/766.jpg ./datasets/6/3/767.jpg ./datasets/6/3/768.jpg ./datasets/6/3/769.jpg  6\\n',\n",
       " './datasets/1/4/217.jpg ./datasets/1/4/218.jpg ./datasets/1/4/219.jpg ./datasets/1/4/220.jpg ./datasets/1/4/221.jpg ./datasets/1/4/222.jpg ./datasets/1/4/223.jpg ./datasets/1/4/224.jpg ./datasets/1/4/225.jpg ./datasets/1/4/226.jpg  1\\n',\n",
       " './datasets/6/8/2404.jpg ./datasets/6/8/2405.jpg ./datasets/6/8/2406.jpg ./datasets/6/8/2407.jpg ./datasets/6/8/2408.jpg ./datasets/6/8/2409.jpg ./datasets/6/8/2410.jpg ./datasets/6/8/2411.jpg ./datasets/6/8/2412.jpg ./datasets/6/8/2413.jpg  6\\n',\n",
       " './datasets/8/7/27806.jpg ./datasets/8/7/27807.jpg ./datasets/8/7/27808.jpg ./datasets/8/7/27809.jpg ./datasets/8/7/27810.jpg ./datasets/8/7/27811.jpg ./datasets/8/7/27812.jpg ./datasets/8/7/27813.jpg ./datasets/8/7/27814.jpg ./datasets/8/7/27815.jpg  8\\n',\n",
       " './datasets/4/2/158.jpg ./datasets/4/2/159.jpg ./datasets/4/2/160.jpg ./datasets/4/2/161.jpg ./datasets/4/2/162.jpg ./datasets/4/2/163.jpg ./datasets/4/2/164.jpg ./datasets/4/2/165.jpg ./datasets/4/2/166.jpg ./datasets/4/2/167.jpg  4\\n',\n",
       " './datasets/8/1/1480.jpg ./datasets/8/1/1481.jpg ./datasets/8/1/1482.jpg ./datasets/8/1/1483.jpg ./datasets/8/1/1484.jpg ./datasets/8/1/1485.jpg ./datasets/8/1/1486.jpg ./datasets/8/1/1487.jpg ./datasets/8/1/1488.jpg ./datasets/8/1/1489.jpg  8\\n',\n",
       " './datasets/7/3/3625.jpg ./datasets/7/3/3626.jpg ./datasets/7/3/3627.jpg ./datasets/7/3/3628.jpg ./datasets/7/3/3629.jpg ./datasets/7/3/3630.jpg ./datasets/7/3/3631.jpg ./datasets/7/3/3632.jpg ./datasets/7/3/3633.jpg ./datasets/7/3/3634.jpg  7\\n',\n",
       " './datasets/1/6/850.jpg ./datasets/1/6/851.jpg ./datasets/1/6/852.jpg ./datasets/1/6/853.jpg ./datasets/1/6/854.jpg ./datasets/1/6/855.jpg ./datasets/1/6/856.jpg ./datasets/1/6/857.jpg ./datasets/1/6/858.jpg ./datasets/1/6/859.jpg  1\\n',\n",
       " './datasets/6/2/633.jpg ./datasets/6/2/634.jpg ./datasets/6/2/635.jpg ./datasets/6/2/636.jpg ./datasets/6/2/637.jpg ./datasets/6/2/638.jpg ./datasets/6/2/639.jpg ./datasets/6/2/640.jpg ./datasets/6/2/641.jpg ./datasets/6/2/642.jpg  6\\n']"
      ]
     },
     "execution_count": 58,
     "metadata": {},
     "output_type": "execute_result"
    }
   ],
   "source": [
    "list"
   ]
  },
  {
   "cell_type": "code",
   "execution_count": 7,
   "metadata": {},
   "outputs": [],
   "source": [
    "txt_serial=\"./datasets/2/2/7748.jpg ./datasets/2/2/7749.jpg ./datasets/2/2/7750.jpg ./datasets/2/2/7751.jpg ./datasets/2/2/7752.jpg ./datasets/2/2/7753.jpg ./datasets/2/2/7754.jpg ./datasets/2/2/7755.jpg ./datasets/2/2/7756.jpg ./datasets/2/2/7757.jpg 2\""
   ]
  },
  {
   "cell_type": "code",
   "execution_count": 8,
   "metadata": {},
   "outputs": [
    {
     "data": {
      "text/plain": [
       "10"
      ]
     },
     "execution_count": 8,
     "metadata": {},
     "output_type": "execute_result"
    }
   ],
   "source": [
    "len(txt_serial.split(' ')[:-1])"
   ]
  },
  {
   "cell_type": "code",
   "execution_count": 9,
   "metadata": {},
   "outputs": [
    {
     "data": {
      "text/plain": [
       "'./datasets/2/2/7748.jpg ./datasets/2/2/7749.jpg ./datasets/2/2/7750.jpg ./datasets/2/2/7751.jpg ./datasets/2/2/7752.jpg ./datasets/2/2/7753.jpg ./datasets/2/2/7754.jpg ./datasets/2/2/7755.jpg ./datasets/2/2/7756.jpg ./datasets/2/2/7757.jpg 2'"
      ]
     },
     "execution_count": 9,
     "metadata": {},
     "output_type": "execute_result"
    }
   ],
   "source": [
    "txt_serial"
   ]
  },
  {
   "cell_type": "code",
   "execution_count": 10,
   "metadata": {},
   "outputs": [],
   "source": [
    "def read_folder_datasets(txt_serial):\n",
    "    y = int(txt_serial.split(' ')[-1])\n",
    "    x = []\n",
    "    for i in txt_serial.split(' ')[:-1]:\n",
    "        img = cv2.imread(i)\n",
    "        img = cv2.resize(img,(224,224))\n",
    "        if img is not None:\n",
    "            x.append(img)\n",
    "    if len(x)==len(txt_serial.split(' ')[:-1]):\n",
    "        return x,y\n",
    "    else:\n",
    "        raise Exception(txt_serial.split(' ')[0]+\"is error!\")"
   ]
  },
  {
   "cell_type": "code",
   "execution_count": 11,
   "metadata": {},
   "outputs": [],
   "source": [
    "x,y = read_folder_datasets(txt_serial)"
   ]
  },
  {
   "cell_type": "code",
   "execution_count": 81,
   "metadata": {},
   "outputs": [
    {
     "data": {
      "text/plain": [
       "(10, 224, 224, 3)"
      ]
     },
     "execution_count": 81,
     "metadata": {},
     "output_type": "execute_result"
    }
   ],
   "source": [
    "np.array(x).shape"
   ]
  },
  {
   "cell_type": "code",
   "execution_count": 13,
   "metadata": {},
   "outputs": [],
   "source": [
    "txt = [\"./datasets/2/2/7748.jpg ./datasets/2/2/7749.jpg ./datasets/2/2/7750.jpg ./datasets/2/2/7751.jpg ./datasets/2/2/7752.jpg ./datasets/2/2/7753.jpg ./datasets/2/2/7754.jpg ./datasets/2/2/7755.jpg ./datasets/2/2/7756.jpg ./datasets/2/2/7757.jpg 2\"\n",
    ",\"./datasets/7/7/27806.jpg ./datasets/7/7/27807.jpg ./datasets/7/7/27808.jpg ./datasets/7/7/27809.jpg ./datasets/7/7/27810.jpg ./datasets/7/7/27811.jpg ./datasets/7/7/27812.jpg ./datasets/7/7/27813.jpg ./datasets/7/7/27814.jpg ./datasets/7/7/27815.jpg 7\",\n",
    "\"./datasets/8/1/119.jpg ./datasets/8/1/120.jpg ./datasets/8/1/121.jpg ./datasets/8/1/122.jpg ./datasets/8/1/123.jpg ./datasets/8/1/124.jpg ./datasets/8/1/125.jpg ./datasets/8/1/126.jpg ./datasets/8/1/127.jpg ./datasets/8/1/128.jpg 8\"]"
   ]
  },
  {
   "cell_type": "code",
   "execution_count": 15,
   "metadata": {},
   "outputs": [
    {
     "data": {
      "text/plain": [
       "3"
      ]
     },
     "execution_count": 15,
     "metadata": {},
     "output_type": "execute_result"
    }
   ],
   "source": [
    "len(txt)"
   ]
  },
  {
   "cell_type": "code",
   "execution_count": 67,
   "metadata": {},
   "outputs": [],
   "source": [
    "def read_batch_txt(batch_txt):\n",
    "    batch_x = []\n",
    "    batch_y = []\n",
    "    for path in batch_txt:\n",
    "        if path[-2:]=='\\n':\n",
    "            path = path[:-2]\n",
    "        x,y = read_folder_datasets(path)\n",
    "        batch_x.append(x)\n",
    "        batch_y.append(y)\n",
    "    batch_x=np.transpose(batch_x, (0,4,1,2,3))\n",
    "    return batch_x,batch_y"
   ]
  },
  {
   "cell_type": "code",
   "execution_count": 68,
   "metadata": {},
   "outputs": [
    {
     "data": {
      "text/plain": [
       "' 2'"
      ]
     },
     "execution_count": 68,
     "metadata": {},
     "output_type": "execute_result"
    }
   ],
   "source": [
    "txt_serial[-2:]"
   ]
  },
  {
   "cell_type": "code",
   "execution_count": 82,
   "metadata": {},
   "outputs": [],
   "source": [
    "x,y = read_batch_txt(txt)"
   ]
  },
  {
   "cell_type": "code",
   "execution_count": 70,
   "metadata": {},
   "outputs": [],
   "source": [
    "x = np.array(x)"
   ]
  },
  {
   "cell_type": "code",
   "execution_count": 71,
   "metadata": {},
   "outputs": [
    {
     "data": {
      "text/plain": [
       "[2, 7, 8]"
      ]
     },
     "execution_count": 71,
     "metadata": {},
     "output_type": "execute_result"
    }
   ],
   "source": [
    "y"
   ]
  },
  {
   "cell_type": "code",
   "execution_count": 72,
   "metadata": {},
   "outputs": [
    {
     "data": {
      "text/plain": [
       "(3, 3, 10, 112, 112)"
      ]
     },
     "execution_count": 72,
     "metadata": {},
     "output_type": "execute_result"
    }
   ],
   "source": [
    "x.shape"
   ]
  },
  {
   "cell_type": "code",
   "execution_count": 83,
   "metadata": {},
   "outputs": [
    {
     "data": {
      "text/plain": [
       "(3, 3, 10, 224, 224)"
      ]
     },
     "execution_count": 83,
     "metadata": {},
     "output_type": "execute_result"
    }
   ],
   "source": [
    "np.array(x).shape"
   ]
  },
  {
   "cell_type": "code",
   "execution_count": 87,
   "metadata": {},
   "outputs": [],
   "source": [
    "class C3D(nn.Module):\n",
    "    \"\"\"\n",
    "    The C3D network as described in [1].\n",
    "    \"\"\"\n",
    "    def __init__(self, num_classes=16):\n",
    "        super(C3D, self).__init__()\n",
    "\n",
    "        self.conv1 = nn.Conv3d(3, 64, kernel_size=(3, 3, 3), padding=(1, 1, 1))\n",
    "        self.pool1 = nn.MaxPool3d(kernel_size=(1, 2, 2), stride=(1, 2, 2))\n",
    "\n",
    "        self.conv2 = nn.Conv3d(64, 128, kernel_size=(3, 3, 3), padding=(1, 1, 1))\n",
    "        self.pool2 = nn.MaxPool3d(kernel_size=(2, 2, 2), stride=(2, 2, 2))\n",
    "\n",
    "        self.conv3a = nn.Conv3d(128, 256, kernel_size=(3, 3, 3), padding=(1, 1, 1))\n",
    "        self.conv3b = nn.Conv3d(256, 256, kernel_size=(3, 3, 3), padding=(1, 1, 1))\n",
    "        self.pool3 = nn.MaxPool3d(kernel_size=(2, 2, 2), stride=(2, 2, 2))\n",
    "\n",
    "        self.conv4a = nn.Conv3d(256, 512, kernel_size=(3, 3, 3), padding=(1, 1, 1))\n",
    "        self.conv4b = nn.Conv3d(512, 512, kernel_size=(3, 3, 3), padding=(1, 1, 1))\n",
    "        self.pool4 = nn.MaxPool3d(kernel_size=(2, 2, 2), stride=(2, 2, 2))\n",
    "\n",
    "        self.conv5a = nn.Conv3d(512, 512, kernel_size=(3, 3, 3), padding=(1, 1, 1))\n",
    "        self.conv5b = nn.Conv3d(512, 512, kernel_size=(3, 3, 3), padding=(1, 1, 1))\n",
    "        self.pool5 = nn.MaxPool3d(kernel_size=(2, 2, 2), stride=(2, 2, 2), padding=(0, 1, 1))\n",
    "\n",
    "        self.fc6 = nn.Linear(8192, 4096)\n",
    "        self.fc7 = nn.Linear(4096, 4096)\n",
    "        self.fc8 = nn.Linear(4096, num_classes)\n",
    "\n",
    "        self.dropout = nn.Dropout(p=0.5)\n",
    "\n",
    "        self.relu = nn.ReLU()\n",
    "        self.softmax = nn.Softmax()\n",
    "\n",
    "    def forward(self, x):\n",
    "        h = self.relu(self.conv1(x))\n",
    "        h = self.pool1(h)\n",
    "\n",
    "        h = self.relu(self.conv2(h))\n",
    "        h = self.pool2(h)\n",
    "\n",
    "        h = self.relu(self.conv3a(h))\n",
    "        h = self.relu(self.conv3b(h))\n",
    "        h = self.pool3(h)\n",
    "\n",
    "        h = self.relu(self.conv4a(h))\n",
    "        h = self.relu(self.conv4b(h))\n",
    "        h = self.pool4(h)\n",
    "\n",
    "        return h"
   ]
  },
  {
   "cell_type": "code",
   "execution_count": 88,
   "metadata": {},
   "outputs": [],
   "source": [
    "net = C3D()"
   ]
  },
  {
   "cell_type": "code",
   "execution_count": 89,
   "metadata": {},
   "outputs": [],
   "source": [
    "cov_block = net.forward(torch.FloatTensor(x))"
   ]
  },
  {
   "cell_type": "code",
   "execution_count": 74,
   "metadata": {},
   "outputs": [
    {
     "data": {
      "text/plain": [
       "tensor([[[[[137., 135., 167.,  ..., 121.,  66.,  54.],\n",
       "           [133., 136., 152.,  ..., 125., 108.,  69.],\n",
       "           [131., 135., 138.,  ..., 129., 112.,  77.],\n",
       "           ...,\n",
       "           [108., 106., 105.,  ..., 119., 102., 129.],\n",
       "           [109., 107., 108.,  ...,  94., 135.,  74.],\n",
       "           [110., 108.,  98.,  ...,  91., 127., 122.]],\n",
       "\n",
       "          [[137., 135., 167.,  ..., 121.,  66.,  54.],\n",
       "           [133., 136., 152.,  ..., 126., 108.,  69.],\n",
       "           [131., 135., 138.,  ..., 130., 113.,  76.],\n",
       "           ...,\n",
       "           [108., 103., 106.,  ..., 120., 103., 130.],\n",
       "           [109., 104., 107.,  ...,  96., 132.,  71.],\n",
       "           [109., 108.,  96.,  ...,  88., 126., 121.]],\n",
       "\n",
       "          [[137., 135., 167.,  ..., 121.,  67.,  54.],\n",
       "           [133., 136., 152.,  ..., 126., 107.,  68.],\n",
       "           [131., 135., 138.,  ..., 130., 111.,  76.],\n",
       "           ...,\n",
       "           [107., 105., 104.,  ..., 118., 104., 128.],\n",
       "           [112., 107., 108.,  ...,  93., 131.,  71.],\n",
       "           [109., 110.,  96.,  ...,  92., 125., 123.]],\n",
       "\n",
       "          ...,\n",
       "\n",
       "          [[132., 140., 164.,  ..., 133.,  68.,  51.],\n",
       "           [128., 139., 145.,  ..., 128., 102.,  71.],\n",
       "           [129., 131., 135.,  ..., 132., 109.,  78.],\n",
       "           ...,\n",
       "           [106., 105., 105.,  ..., 118., 106., 123.],\n",
       "           [106., 106., 107.,  ..., 103., 133.,  69.],\n",
       "           [113., 110., 104.,  ...,  94., 122., 120.]],\n",
       "\n",
       "          [[131., 140., 164.,  ..., 133.,  68.,  51.],\n",
       "           [128., 140., 146.,  ..., 128., 102.,  71.],\n",
       "           [129., 131., 135.,  ..., 132., 109.,  78.],\n",
       "           ...,\n",
       "           [105., 105., 105.,  ..., 117., 106., 123.],\n",
       "           [106., 106., 108.,  ..., 102., 133.,  69.],\n",
       "           [113., 110.,  99.,  ...,  95., 122., 120.]],\n",
       "\n",
       "          [[131., 140., 164.,  ..., 133.,  68.,  51.],\n",
       "           [128., 140., 146.,  ..., 128., 102.,  71.],\n",
       "           [129., 131., 135.,  ..., 132., 109.,  78.],\n",
       "           ...,\n",
       "           [107., 106., 105.,  ..., 117., 106., 123.],\n",
       "           [109., 106., 107.,  ..., 104., 134.,  69.],\n",
       "           [113., 109., 101.,  ...,  95., 122., 120.]]],\n",
       "\n",
       "\n",
       "         [[[128., 132., 170.,  ..., 111.,  52.,  34.],\n",
       "           [124., 131., 151.,  ..., 116.,  88.,  53.],\n",
       "           [125., 130., 138.,  ..., 121.,  95.,  63.],\n",
       "           ...,\n",
       "           [107., 106., 108.,  ..., 126., 101., 121.],\n",
       "           [109., 105., 106.,  ..., 100., 133.,  68.],\n",
       "           [112., 108., 100.,  ...,  99., 124., 113.]],\n",
       "\n",
       "          [[128., 132., 170.,  ..., 111.,  52.,  34.],\n",
       "           [124., 131., 151.,  ..., 117.,  88.,  53.],\n",
       "           [125., 130., 138.,  ..., 124.,  96.,  64.],\n",
       "           ...,\n",
       "           [109., 106., 108.,  ..., 126.,  99., 121.],\n",
       "           [111., 107., 107.,  ...,  99., 132.,  64.],\n",
       "           [112., 108.,  99.,  ...,  98., 123., 112.]],\n",
       "\n",
       "          [[128., 132., 170.,  ..., 111.,  54.,  33.],\n",
       "           [124., 131., 151.,  ..., 117.,  87.,  52.],\n",
       "           [125., 130., 138.,  ..., 124.,  94.,  63.],\n",
       "           ...,\n",
       "           [110., 107., 109.,  ..., 126.,  99., 119.],\n",
       "           [110., 106., 106.,  ...,  98., 131.,  66.],\n",
       "           [112., 110., 100.,  ...,  96., 122., 113.]],\n",
       "\n",
       "          ...,\n",
       "\n",
       "          [[125., 131., 168.,  ..., 124.,  55.,  33.],\n",
       "           [122., 135., 147.,  ..., 119.,  87.,  53.],\n",
       "           [122., 128., 139.,  ..., 123.,  95.,  65.],\n",
       "           ...,\n",
       "           [106., 106., 110.,  ..., 125., 102., 117.],\n",
       "           [108., 106., 108.,  ..., 110., 132.,  63.],\n",
       "           [110., 109., 106.,  ...,  96., 122., 111.]],\n",
       "\n",
       "          [[124., 131., 168.,  ..., 124.,  55.,  33.],\n",
       "           [122., 135., 148.,  ..., 119.,  87.,  53.],\n",
       "           [122., 129., 139.,  ..., 123.,  95.,  65.],\n",
       "           ...,\n",
       "           [106., 107., 110.,  ..., 124., 103., 117.],\n",
       "           [108., 106., 108.,  ..., 110., 132.,  63.],\n",
       "           [110., 108., 106.,  ...,  97., 122., 111.]],\n",
       "\n",
       "          [[124., 131., 168.,  ..., 124.,  55.,  33.],\n",
       "           [122., 135., 148.,  ..., 119.,  87.,  53.],\n",
       "           [122., 129., 139.,  ..., 123.,  96.,  65.],\n",
       "           ...,\n",
       "           [105., 108., 111.,  ..., 124., 103., 115.],\n",
       "           [109., 108., 107.,  ..., 113., 133.,  63.],\n",
       "           [110., 110., 106.,  ...,  97., 120., 111.]]],\n",
       "\n",
       "\n",
       "         [[[119., 118., 159.,  ..., 111.,  53.,  34.],\n",
       "           [112., 114., 147.,  ..., 107.,  89.,  54.],\n",
       "           [114., 121., 129.,  ..., 121.,  97.,  63.],\n",
       "           ...,\n",
       "           [ 90.,  88.,  91.,  ..., 122.,  91., 111.],\n",
       "           [ 91.,  94.,  95.,  ...,  95., 120.,  61.],\n",
       "           [100.,  96.,  84.,  ...,  86., 118., 103.]],\n",
       "\n",
       "          [[119., 118., 159.,  ..., 111.,  53.,  34.],\n",
       "           [112., 114., 147.,  ..., 108.,  89.,  54.],\n",
       "           [114., 121., 129.,  ..., 119.,  97.,  61.],\n",
       "           ...,\n",
       "           [ 89.,  87.,  93.,  ..., 122.,  94., 112.],\n",
       "           [ 89.,  92.,  93.,  ...,  95., 119.,  56.],\n",
       "           [ 96.,  96.,  83.,  ...,  84., 117., 100.]],\n",
       "\n",
       "          [[119., 118., 159.,  ..., 111.,  54.,  36.],\n",
       "           [112., 114., 147.,  ..., 108.,  88.,  53.],\n",
       "           [114., 121., 129.,  ..., 119.,  95.,  60.],\n",
       "           ...,\n",
       "           [ 88.,  86.,  90.,  ..., 120.,  96., 110.],\n",
       "           [ 92.,  92.,  95.,  ...,  95., 117.,  57.],\n",
       "           [ 97.,  96.,  81.,  ...,  85., 116., 101.]],\n",
       "\n",
       "          ...,\n",
       "\n",
       "          [[116., 121., 157.,  ..., 121.,  55.,  34.],\n",
       "           [111., 120., 141.,  ..., 115.,  84.,  54.],\n",
       "           [113., 120., 128.,  ..., 119.,  99.,  63.],\n",
       "           ...,\n",
       "           [ 94.,  87.,  93.,  ..., 121.,  96., 106.],\n",
       "           [ 96.,  93.,  92.,  ..., 104., 123.,  56.],\n",
       "           [ 95.,  96.,  86.,  ...,  88., 112., 101.]],\n",
       "\n",
       "          [[115., 122., 157.,  ..., 121.,  55.,  34.],\n",
       "           [111., 122., 143.,  ..., 115.,  84.,  54.],\n",
       "           [113., 119., 129.,  ..., 119.,  99.,  63.],\n",
       "           ...,\n",
       "           [ 94.,  87.,  94.,  ..., 119.,  94., 106.],\n",
       "           [ 96.,  94.,  93.,  ..., 102., 123.,  56.],\n",
       "           [ 95.,  95.,  85.,  ...,  89., 112., 101.]],\n",
       "\n",
       "          [[115., 122., 157.,  ..., 121.,  55.,  34.],\n",
       "           [111., 122., 143.,  ..., 115.,  84.,  54.],\n",
       "           [113., 119., 129.,  ..., 119.,  98.,  63.],\n",
       "           ...,\n",
       "           [ 91.,  87.,  91.,  ..., 118.,  94., 108.],\n",
       "           [ 93.,  89.,  94.,  ..., 102., 123.,  56.],\n",
       "           [ 95.,  97.,  85.,  ...,  89., 112., 101.]]]],\n",
       "\n",
       "\n",
       "\n",
       "        [[[[132., 117., 156.,  ..., 126.,  55.,  57.],\n",
       "           [126., 140., 159.,  ..., 128., 100.,  71.],\n",
       "           [125., 131., 143.,  ..., 134., 112.,  78.],\n",
       "           ...,\n",
       "           [110., 103., 105.,  ..., 120., 106., 125.],\n",
       "           [111., 110., 105.,  ..., 101., 130.,  74.],\n",
       "           [113., 113., 108.,  ..., 104., 126., 120.]],\n",
       "\n",
       "          [[131., 116., 156.,  ..., 126.,  55.,  57.],\n",
       "           [125., 140., 159.,  ..., 128., 100.,  71.],\n",
       "           [125., 131., 143.,  ..., 134., 112.,  78.],\n",
       "           ...,\n",
       "           [110., 101., 105.,  ..., 121., 105., 124.],\n",
       "           [111., 109., 105.,  ..., 101., 131.,  71.],\n",
       "           [113., 111., 108.,  ..., 104., 128., 119.]],\n",
       "\n",
       "          [[131., 116., 156.,  ..., 126.,  55.,  57.],\n",
       "           [125., 140., 159.,  ..., 128., 100.,  71.],\n",
       "           [125., 131., 143.,  ..., 135., 112.,  78.],\n",
       "           ...,\n",
       "           [109., 101., 104.,  ..., 120., 109., 122.],\n",
       "           [111., 110., 105.,  ..., 106., 132.,  72.],\n",
       "           [114., 111., 105.,  ..., 105., 131., 120.]],\n",
       "\n",
       "          ...,\n",
       "\n",
       "          [[135., 120., 161.,  ..., 123.,  70.,  51.],\n",
       "           [130., 147., 145.,  ..., 129., 101.,  64.],\n",
       "           [132., 137., 137.,  ..., 133., 114.,  77.],\n",
       "           ...,\n",
       "           [111., 105., 105.,  ..., 124., 103., 129.],\n",
       "           [113., 111., 104.,  ..., 108., 131.,  55.],\n",
       "           [113., 111., 109.,  ..., 111., 131., 118.]],\n",
       "\n",
       "          [[135., 120., 161.,  ..., 123.,  70.,  56.],\n",
       "           [130., 147., 145.,  ..., 128., 102.,  71.],\n",
       "           [132., 140., 137.,  ..., 134., 115.,  75.],\n",
       "           ...,\n",
       "           [111., 105., 106.,  ..., 124., 103., 130.],\n",
       "           [113., 111., 104.,  ..., 107., 131.,  54.],\n",
       "           [113., 111., 109.,  ..., 110., 129., 121.]],\n",
       "\n",
       "          [[136., 120., 159.,  ..., 123.,  69.,  57.],\n",
       "           [131., 146., 145.,  ..., 129., 101.,  72.],\n",
       "           [132., 139., 138.,  ..., 133., 116.,  75.],\n",
       "           ...,\n",
       "           [111., 108., 106.,  ..., 122., 103., 129.],\n",
       "           [113., 113., 103.,  ..., 108., 133.,  54.],\n",
       "           [115., 110., 111.,  ..., 111., 131., 120.]]],\n",
       "\n",
       "\n",
       "         [[[125., 115., 156.,  ..., 111.,  41.,  36.],\n",
       "           [124., 137., 153.,  ..., 116.,  86.,  53.],\n",
       "           [122., 129., 141.,  ..., 125.,  98.,  63.],\n",
       "           ...,\n",
       "           [109., 102., 110.,  ..., 125., 107., 119.],\n",
       "           [111., 109., 105.,  ..., 112., 133.,  69.],\n",
       "           [116., 109., 108.,  ..., 107., 127., 115.]],\n",
       "\n",
       "          [[126., 114., 156.,  ..., 111.,  41.,  36.],\n",
       "           [123., 137., 153.,  ..., 116.,  86.,  53.],\n",
       "           [122., 129., 141.,  ..., 125.,  98.,  63.],\n",
       "           ...,\n",
       "           [109., 101., 110.,  ..., 124., 107., 119.],\n",
       "           [111., 109., 105.,  ..., 113., 132.,  70.],\n",
       "           [115., 107., 108.,  ..., 108., 126., 115.]],\n",
       "\n",
       "          [[126., 114., 156.,  ..., 111.,  41.,  36.],\n",
       "           [123., 137., 153.,  ..., 116.,  86.,  53.],\n",
       "           [122., 129., 141.,  ..., 126.,  99.,  63.],\n",
       "           ...,\n",
       "           [109., 101., 111.,  ..., 125., 109., 120.],\n",
       "           [110., 110., 107.,  ..., 115., 128.,  70.],\n",
       "           [116., 107., 108.,  ..., 105., 126., 116.]],\n",
       "\n",
       "          ...,\n",
       "\n",
       "          [[128., 113., 160.,  ..., 113.,  56.,  38.],\n",
       "           [125., 139., 139.,  ..., 121.,  88.,  55.],\n",
       "           [130., 134., 137.,  ..., 124., 103.,  64.],\n",
       "           ...,\n",
       "           [108., 103., 107.,  ..., 129.,  98., 124.],\n",
       "           [110., 108., 107.,  ..., 115., 126.,  54.],\n",
       "           [114., 108., 109.,  ..., 108., 125., 112.]],\n",
       "\n",
       "          [[128., 113., 160.,  ..., 113.,  57.,  35.],\n",
       "           [125., 139., 139.,  ..., 120.,  88.,  53.],\n",
       "           [130., 137., 137.,  ..., 125., 103.,  61.],\n",
       "           ...,\n",
       "           [108., 103., 108.,  ..., 129.,  99., 125.],\n",
       "           [110., 108., 107.,  ..., 114., 126.,  53.],\n",
       "           [114., 108., 109.,  ..., 108., 122., 113.]],\n",
       "\n",
       "          [[129., 113., 158.,  ..., 113.,  56.,  36.],\n",
       "           [126., 138., 139.,  ..., 121.,  88.,  54.],\n",
       "           [130., 136., 138.,  ..., 124., 104.,  61.],\n",
       "           ...,\n",
       "           [109., 106., 108.,  ..., 128.,  99., 124.],\n",
       "           [109., 109., 108.,  ..., 115., 128.,  53.],\n",
       "           [115., 109., 109.,  ..., 108., 125., 112.]]],\n",
       "\n",
       "\n",
       "         [[[115., 105., 145.,  ..., 112.,  44.,  38.],\n",
       "           [113., 122., 146.,  ..., 110.,  87.,  52.],\n",
       "           [107., 115., 131.,  ..., 121.,  98.,  62.],\n",
       "           ...,\n",
       "           [ 92.,  87.,  95.,  ..., 121.,  93., 108.],\n",
       "           [ 95.,  95.,  93.,  ..., 102., 118.,  60.],\n",
       "           [ 97.,  91.,  94.,  ...,  94., 115., 104.]],\n",
       "\n",
       "          [[115., 104., 145.,  ..., 112.,  44.,  38.],\n",
       "           [112., 123., 146.,  ..., 110.,  87.,  52.],\n",
       "           [107., 115., 131.,  ..., 121.,  98.,  62.],\n",
       "           ...,\n",
       "           [ 92.,  84.,  96.,  ..., 120.,  93., 108.],\n",
       "           [ 95.,  93.,  93.,  ..., 102., 118.,  59.],\n",
       "           [ 95.,  92.,  95.,  ...,  91., 115., 105.]],\n",
       "\n",
       "          [[115., 104., 145.,  ..., 112.,  44.,  38.],\n",
       "           [112., 123., 146.,  ..., 110.,  87.,  52.],\n",
       "           [107., 115., 131.,  ..., 122.,  95.,  62.],\n",
       "           ...,\n",
       "           [ 92.,  85.,  93.,  ..., 120.,  97., 107.],\n",
       "           [ 96.,  94.,  88.,  ..., 107., 118.,  59.],\n",
       "           [ 97.,  91.,  94.,  ...,  95., 114., 107.]],\n",
       "\n",
       "          ...,\n",
       "\n",
       "          [[119., 104., 150.,  ..., 113.,  58.,  38.],\n",
       "           [116., 127., 132.,  ..., 114.,  86.,  52.],\n",
       "           [119., 124., 131.,  ..., 120.,  96.,  62.],\n",
       "           ...,\n",
       "           [ 92.,  86.,  92.,  ..., 126.,  86., 112.],\n",
       "           [ 96.,  93.,  91.,  ..., 108., 117.,  44.],\n",
       "           [ 98.,  93.,  91.,  ..., 100., 114., 107.]],\n",
       "\n",
       "          [[119., 104., 150.,  ..., 113.,  59.,  37.],\n",
       "           [116., 127., 132.,  ..., 113.,  87.,  52.],\n",
       "           [119., 127., 132.,  ..., 121.,  97.,  62.],\n",
       "           ...,\n",
       "           [ 92.,  86.,  93.,  ..., 127.,  84., 112.],\n",
       "           [ 96.,  93.,  91.,  ..., 107., 117.,  43.],\n",
       "           [ 98.,  93.,  91.,  ..., 100., 114., 106.]],\n",
       "\n",
       "          [[120., 104., 148.,  ..., 113.,  58.,  38.],\n",
       "           [117., 126., 132.,  ..., 114.,  86.,  53.],\n",
       "           [119., 126., 132.,  ..., 120.,  98.,  62.],\n",
       "           ...,\n",
       "           [ 91.,  88.,  95.,  ..., 125.,  84., 112.],\n",
       "           [ 98.,  98.,  93.,  ..., 108., 119.,  43.],\n",
       "           [100.,  91.,  91.,  ..., 100., 115., 108.]]]],\n",
       "\n",
       "\n",
       "\n",
       "        [[[[178., 185., 154.,  ...,   6.,  11.,  10.],\n",
       "           [174., 185., 165.,  ...,   7.,   6.,   8.],\n",
       "           [172., 164., 166.,  ...,  12.,  10.,   6.],\n",
       "           ...,\n",
       "           [116., 128., 132.,  ...,  12.,   5.,  11.],\n",
       "           [115., 129., 128.,  ...,  12.,  11.,  15.],\n",
       "           [110., 136.,  98.,  ...,  13.,  13.,  13.]],\n",
       "\n",
       "          [[178., 185., 154.,  ...,   7.,  11.,  11.],\n",
       "           [174., 185., 165.,  ...,   7.,   6.,   9.],\n",
       "           [172., 164., 166.,  ...,  12.,  10.,   6.],\n",
       "           ...,\n",
       "           [116., 128., 132.,  ...,  12.,   6.,  10.],\n",
       "           [115., 129., 128.,  ...,  18.,   9.,  15.],\n",
       "           [110., 136.,  98.,  ...,  13.,   9.,   9.]],\n",
       "\n",
       "          [[178., 184., 154.,  ...,   7.,  11.,  11.],\n",
       "           [174., 185., 165.,  ...,   7.,   6.,   9.],\n",
       "           [172., 164., 166.,  ...,  12.,   8.,   7.],\n",
       "           ...,\n",
       "           [116., 130., 133.,  ...,   9.,   6.,   8.],\n",
       "           [115., 129., 129.,  ...,  15.,   7.,   9.],\n",
       "           [111., 135.,  97.,  ...,  11.,   7.,   7.]],\n",
       "\n",
       "          ...,\n",
       "\n",
       "          [[178., 183., 157.,  ...,  10.,  10.,  10.],\n",
       "           [174., 185., 167.,  ...,  10.,  11.,   8.],\n",
       "           [172., 164., 166.,  ...,  11.,   8.,  10.],\n",
       "           ...,\n",
       "           [116., 130., 133.,  ...,   9.,  10.,  12.],\n",
       "           [119., 128., 128.,  ...,  14.,   9.,  13.],\n",
       "           [117., 130.,  94.,  ...,  10.,   8.,  10.]],\n",
       "\n",
       "          [[178., 183., 157.,  ...,  10.,  10.,  10.],\n",
       "           [174., 185., 167.,  ...,  10.,  11.,   8.],\n",
       "           [172., 164., 166.,  ...,  11.,   8.,  10.],\n",
       "           ...,\n",
       "           [116., 130., 133.,  ...,   9.,  10.,  12.],\n",
       "           [119., 128., 128.,  ...,  14.,   9.,  13.],\n",
       "           [117., 130.,  94.,  ...,  10.,   8.,  10.]],\n",
       "\n",
       "          [[178., 183., 157.,  ...,  10.,   9.,   9.],\n",
       "           [174., 185., 167.,  ...,  10.,   9.,   9.],\n",
       "           [172., 164., 166.,  ...,  11.,   8.,  10.],\n",
       "           ...,\n",
       "           [116., 131., 132.,  ...,   7.,  10.,  12.],\n",
       "           [119., 128., 127.,  ...,  12.,   5.,  14.],\n",
       "           [112., 130.,  93.,  ...,  12.,  10.,   9.]]],\n",
       "\n",
       "\n",
       "         [[[174., 181., 145.,  ...,  13.,  13.,  15.],\n",
       "           [176., 181., 157.,  ...,  12.,  12.,  13.],\n",
       "           [181., 170., 153.,  ...,  14.,  12.,  11.],\n",
       "           ...,\n",
       "           [126., 124., 125.,  ...,  15.,   7.,  15.],\n",
       "           [123., 117., 124.,  ...,  15.,  15.,  16.],\n",
       "           [125., 120.,  94.,  ...,  14.,  14.,  14.]],\n",
       "\n",
       "          [[174., 181., 145.,  ...,  13.,  13.,  16.],\n",
       "           [176., 181., 157.,  ...,  12.,  12.,  14.],\n",
       "           [181., 170., 153.,  ...,  14.,  12.,  11.],\n",
       "           ...,\n",
       "           [126., 124., 125.,  ...,  15.,   8.,  14.],\n",
       "           [123., 117., 124.,  ...,  21.,  13.,  15.],\n",
       "           [125., 120.,  94.,  ...,  14.,  10.,  10.]],\n",
       "\n",
       "          [[174., 180., 145.,  ...,  13.,  13.,  16.],\n",
       "           [176., 181., 157.,  ...,  12.,  12.,  14.],\n",
       "           [181., 170., 153.,  ...,  14.,  11.,  12.],\n",
       "           ...,\n",
       "           [126., 125., 125.,  ...,  13.,   8.,  12.],\n",
       "           [123., 120., 125.,  ...,  19.,  10.,  13.],\n",
       "           [127., 119.,  94.,  ...,  12.,   8.,   8.]],\n",
       "\n",
       "          ...,\n",
       "\n",
       "          [[174., 179., 144.,  ...,  11.,  11.,  12.],\n",
       "           [176., 181., 159.,  ...,  12.,  14.,  15.],\n",
       "           [181., 170., 153.,  ...,  13.,  12.,  13.],\n",
       "           ...,\n",
       "           [127., 125., 126.,  ...,  12.,  13.,  10.],\n",
       "           [124., 118., 124.,  ...,  17.,  10.,  14.],\n",
       "           [124., 121.,  91.,  ...,  12.,   9.,  11.]],\n",
       "\n",
       "          [[174., 179., 144.,  ...,  11.,  11.,  12.],\n",
       "           [176., 181., 159.,  ...,  12.,  14.,  15.],\n",
       "           [181., 170., 153.,  ...,  13.,  12.,  13.],\n",
       "           ...,\n",
       "           [127., 125., 126.,  ...,  12.,  13.,  10.],\n",
       "           [124., 118., 124.,  ...,  17.,  10.,  14.],\n",
       "           [124., 121.,  91.,  ...,  12.,   9.,  11.]],\n",
       "\n",
       "          [[174., 179., 144.,  ...,  11.,  11.,  12.],\n",
       "           [176., 181., 159.,  ...,  12.,  14.,  13.],\n",
       "           [181., 170., 153.,  ...,  13.,  12.,  13.],\n",
       "           ...,\n",
       "           [127., 125., 125.,  ...,  10.,  14.,  10.],\n",
       "           [124., 118., 124.,  ...,  16.,   8.,  15.],\n",
       "           [124., 120.,  90.,  ...,  14.,   8.,  10.]]],\n",
       "\n",
       "\n",
       "         [[[186., 192., 148.,  ...,  10.,  13.,  14.],\n",
       "           [184., 192., 156.,  ...,  10.,  11.,  12.],\n",
       "           [183., 175., 155.,  ...,  12.,  14.,  10.],\n",
       "           ...,\n",
       "           [124., 110., 121.,  ...,  11.,   5.,  10.],\n",
       "           [122., 111., 113.,  ...,  13.,  10.,  14.],\n",
       "           [126., 112.,  88.,  ...,  12.,  12.,  12.]],\n",
       "\n",
       "          [[186., 192., 148.,  ...,  12.,  13.,  15.],\n",
       "           [184., 192., 156.,  ...,  10.,  11.,  13.],\n",
       "           [183., 175., 155.,  ...,  12.,  14.,  10.],\n",
       "           ...,\n",
       "           [124., 110., 121.,  ...,  11.,   6.,   9.],\n",
       "           [122., 111., 113.,  ...,  19.,   8.,  14.],\n",
       "           [126., 112.,  88.,  ...,  12.,   6.,   7.]],\n",
       "\n",
       "          [[186., 191., 148.,  ...,  12.,  13.,  15.],\n",
       "           [184., 192., 156.,  ...,  10.,  11.,  13.],\n",
       "           [183., 175., 155.,  ...,  12.,  15.,  11.],\n",
       "           ...,\n",
       "           [124., 111., 121.,  ...,  11.,   6.,   7.],\n",
       "           [122., 111., 114.,  ...,  14.,   7.,   8.],\n",
       "           [125., 112.,  87.,  ...,  10.,   4.,   6.]],\n",
       "\n",
       "          ...,\n",
       "\n",
       "          [[186., 190., 148.,  ...,  15.,  15.,  12.],\n",
       "           [184., 192., 158.,  ...,  11.,  11.,   8.],\n",
       "           [181., 175., 155.,  ...,  11.,  11.,  11.],\n",
       "           ...,\n",
       "           [125., 111., 119.,  ...,   8.,  11.,   8.],\n",
       "           [125., 111., 113.,  ...,  15.,   6.,  12.],\n",
       "           [127., 111.,  85.,  ...,   9.,   7.,   8.]],\n",
       "\n",
       "          [[186., 190., 148.,  ...,  15.,  15.,  12.],\n",
       "           [184., 192., 158.,  ...,  11.,  11.,   8.],\n",
       "           [181., 175., 155.,  ...,  11.,  11.,  11.],\n",
       "           ...,\n",
       "           [125., 111., 119.,  ...,   8.,  11.,   8.],\n",
       "           [125., 111., 113.,  ...,  15.,   6.,  12.],\n",
       "           [127., 111.,  85.,  ...,   9.,   7.,   8.]],\n",
       "\n",
       "          [[186., 190., 148.,  ...,  15.,  12.,  10.],\n",
       "           [184., 192., 158.,  ...,  11.,  13.,   8.],\n",
       "           [181., 175., 155.,  ...,  11.,  12.,  11.],\n",
       "           ...,\n",
       "           [125., 113., 118.,  ...,   6.,  11.,   8.],\n",
       "           [125., 111., 110.,  ...,  14.,   6.,  13.],\n",
       "           [124., 111.,  83.,  ...,  11.,   7.,   8.]]]]])"
      ]
     },
     "execution_count": 74,
     "metadata": {},
     "output_type": "execute_result"
    }
   ],
   "source": [
    "torch.FloatTensor(x)"
   ]
  },
  {
   "cell_type": "code",
   "execution_count": 78,
   "metadata": {},
   "outputs": [
    {
     "data": {
      "text/plain": [
       "(3, 3, 10, 112, 112)"
      ]
     },
     "execution_count": 78,
     "metadata": {},
     "output_type": "execute_result"
    }
   ],
   "source": [
    "x.shape"
   ]
  },
  {
   "cell_type": "code",
   "execution_count": 12,
   "metadata": {},
   "outputs": [],
   "source": [
    "img = cv2.imread('347.jpg')"
   ]
  },
  {
   "cell_type": "code",
   "execution_count": 20,
   "metadata": {},
   "outputs": [],
   "source": [
    "cv2.imshow('dsa',img)\n",
    "img = cv2.resize(img,(112,112))\n",
    "cv2.waitKey(0)\n",
    "cv2.destroyAllWindows()"
   ]
  },
  {
   "cell_type": "code",
   "execution_count": null,
   "metadata": {},
   "outputs": [],
   "source": []
  }
 ],
 "metadata": {
  "kernelspec": {
   "display_name": "Python 3",
   "language": "python",
   "name": "python3"
  },
  "language_info": {
   "codemirror_mode": {
    "name": "ipython",
    "version": 3
   },
   "file_extension": ".py",
   "mimetype": "text/x-python",
   "name": "python",
   "nbconvert_exporter": "python",
   "pygments_lexer": "ipython3",
   "version": "3.7.6"
  }
 },
 "nbformat": 4,
 "nbformat_minor": 4
}
